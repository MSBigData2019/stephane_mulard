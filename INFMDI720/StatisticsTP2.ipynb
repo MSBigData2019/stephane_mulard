{
 "cells": [
  {
   "cell_type": "markdown",
   "metadata": {},
   "source": [
    "Exercice 1. (Analyse de la base de données “investment data”) La lecture d’un tuto- riel pandas pourra être utile : http://pandas.pydata.org/pandas-docs/stable/tutorials.html. Nous travaillons sur la base de données Investment Data Set1 qui peut être téléchargée depuis https://bitbucket.org/portierf/shared_files/downloads/invest.txt. Avant de commencer, on réalisera l’exercice 12 du polycopié : ”explicit formulas when p “ 1 for prediction intervals\", se trouvant dans le chapitre 3 : “Confidence intervals and hypothesis testing”. On pourra aussi lire la section 3.1.1 de ce même chapitre du polycopié."
   ]
  },
  {
   "cell_type": "markdown",
   "metadata": {},
   "source": [
    "1. Importer la base de données “invest.txt” et l’afficher dans une forme lisible, e.g. une table conte- nant les 5 premières observations."
   ]
  },
  {
   "cell_type": "code",
   "execution_count": 5,
   "metadata": {},
   "outputs": [],
   "source": [
    "import numpy as np\n",
    "import pandas as pd\n",
    "import matplotlib.pyplot as plt\n",
    "from mpl_toolkits.mplot3d import Axes3D\n",
    "% matplotlib notebook\n",
    "from scipy import stats\n",
    "from sklearn import linear_model\n",
    "from sklearn.metrics import mean_squared_error, r2_score"
   ]
  },
  {
   "cell_type": "code",
   "execution_count": 6,
   "metadata": {},
   "outputs": [
    {
     "data": {
      "text/html": [
       "<div>\n",
       "<style scoped>\n",
       "    .dataframe tbody tr th:only-of-type {\n",
       "        vertical-align: middle;\n",
       "    }\n",
       "\n",
       "    .dataframe tbody tr th {\n",
       "        vertical-align: top;\n",
       "    }\n",
       "\n",
       "    .dataframe thead th {\n",
       "        text-align: right;\n",
       "    }\n",
       "</style>\n",
       "<table border=\"1\" class=\"dataframe\">\n",
       "  <thead>\n",
       "    <tr style=\"text-align: right;\">\n",
       "      <th></th>\n",
       "      <th>year</th>\n",
       "      <th>gnp</th>\n",
       "      <th>invest</th>\n",
       "      <th>cpi</th>\n",
       "      <th>interest</th>\n",
       "    </tr>\n",
       "  </thead>\n",
       "  <tbody>\n",
       "    <tr>\n",
       "      <th>0</th>\n",
       "      <td>1968</td>\n",
       "      <td>873.4</td>\n",
       "      <td>133.3</td>\n",
       "      <td>82.54</td>\n",
       "      <td>5.16</td>\n",
       "    </tr>\n",
       "    <tr>\n",
       "      <th>1</th>\n",
       "      <td>1969</td>\n",
       "      <td>944.0</td>\n",
       "      <td>149.3</td>\n",
       "      <td>86.79</td>\n",
       "      <td>5.87</td>\n",
       "    </tr>\n",
       "    <tr>\n",
       "      <th>2</th>\n",
       "      <td>1970</td>\n",
       "      <td>992.7</td>\n",
       "      <td>144.2</td>\n",
       "      <td>91.45</td>\n",
       "      <td>5.95</td>\n",
       "    </tr>\n",
       "    <tr>\n",
       "      <th>3</th>\n",
       "      <td>1971</td>\n",
       "      <td>1077.6</td>\n",
       "      <td>166.4</td>\n",
       "      <td>96.01</td>\n",
       "      <td>4.88</td>\n",
       "    </tr>\n",
       "    <tr>\n",
       "      <th>4</th>\n",
       "      <td>1972</td>\n",
       "      <td>1185.9</td>\n",
       "      <td>195.0</td>\n",
       "      <td>100.00</td>\n",
       "      <td>4.50</td>\n",
       "    </tr>\n",
       "  </tbody>\n",
       "</table>\n",
       "</div>"
      ],
      "text/plain": [
       "   year     gnp  invest     cpi  interest\n",
       "0  1968   873.4   133.3   82.54      5.16\n",
       "1  1969   944.0   149.3   86.79      5.87\n",
       "2  1970   992.7   144.2   91.45      5.95\n",
       "3  1971  1077.6   166.4   96.01      4.88\n",
       "4  1972  1185.9   195.0  100.00      4.50"
      ]
     },
     "execution_count": 6,
     "metadata": {},
     "output_type": "execute_result"
    }
   ],
   "source": [
    "# Load data\n",
    "url = 'https://bitbucket.org/portierf/shared_files/downloads/invest.txt'\n",
    "df = pd.read_csv(url, sep=' ')\n",
    "df.head()"
   ]
  },
  {
   "cell_type": "code",
   "execution_count": 7,
   "metadata": {},
   "outputs": [
    {
     "data": {
      "text/html": [
       "<div>\n",
       "<style scoped>\n",
       "    .dataframe tbody tr th:only-of-type {\n",
       "        vertical-align: middle;\n",
       "    }\n",
       "\n",
       "    .dataframe tbody tr th {\n",
       "        vertical-align: top;\n",
       "    }\n",
       "\n",
       "    .dataframe thead th {\n",
       "        text-align: right;\n",
       "    }\n",
       "</style>\n",
       "<table border=\"1\" class=\"dataframe\">\n",
       "  <thead>\n",
       "    <tr style=\"text-align: right;\">\n",
       "      <th></th>\n",
       "      <th>year</th>\n",
       "      <th>gnp</th>\n",
       "      <th>invest</th>\n",
       "      <th>cpi</th>\n",
       "      <th>interest</th>\n",
       "    </tr>\n",
       "  </thead>\n",
       "  <tbody>\n",
       "    <tr>\n",
       "      <th>count</th>\n",
       "      <td>15.000000</td>\n",
       "      <td>15.000000</td>\n",
       "      <td>15.000000</td>\n",
       "      <td>15.000000</td>\n",
       "      <td>15.000000</td>\n",
       "    </tr>\n",
       "    <tr>\n",
       "      <th>mean</th>\n",
       "      <td>1975.000000</td>\n",
       "      <td>1748.646667</td>\n",
       "      <td>276.006667</td>\n",
       "      <td>131.401333</td>\n",
       "      <td>7.452667</td>\n",
       "    </tr>\n",
       "    <tr>\n",
       "      <th>std</th>\n",
       "      <td>4.472136</td>\n",
       "      <td>738.145808</td>\n",
       "      <td>117.582691</td>\n",
       "      <td>40.286606</td>\n",
       "      <td>2.812245</td>\n",
       "    </tr>\n",
       "    <tr>\n",
       "      <th>min</th>\n",
       "      <td>1968.000000</td>\n",
       "      <td>873.400000</td>\n",
       "      <td>133.300000</td>\n",
       "      <td>82.540000</td>\n",
       "      <td>4.500000</td>\n",
       "    </tr>\n",
       "    <tr>\n",
       "      <th>25%</th>\n",
       "      <td>1971.500000</td>\n",
       "      <td>1131.750000</td>\n",
       "      <td>180.700000</td>\n",
       "      <td>98.005000</td>\n",
       "      <td>5.480000</td>\n",
       "    </tr>\n",
       "    <tr>\n",
       "      <th>50%</th>\n",
       "      <td>1975.000000</td>\n",
       "      <td>1549.200000</td>\n",
       "      <td>229.800000</td>\n",
       "      <td>125.790000</td>\n",
       "      <td>6.250000</td>\n",
       "    </tr>\n",
       "    <tr>\n",
       "      <th>75%</th>\n",
       "      <td>1978.500000</td>\n",
       "      <td>2290.850000</td>\n",
       "      <td>394.450000</td>\n",
       "      <td>156.920000</td>\n",
       "      <td>9.055000</td>\n",
       "    </tr>\n",
       "    <tr>\n",
       "      <th>max</th>\n",
       "      <td>1982.000000</td>\n",
       "      <td>3057.500000</td>\n",
       "      <td>471.500000</td>\n",
       "      <td>207.230000</td>\n",
       "      <td>13.420000</td>\n",
       "    </tr>\n",
       "  </tbody>\n",
       "</table>\n",
       "</div>"
      ],
      "text/plain": [
       "              year          gnp      invest         cpi   interest\n",
       "count    15.000000    15.000000   15.000000   15.000000  15.000000\n",
       "mean   1975.000000  1748.646667  276.006667  131.401333   7.452667\n",
       "std       4.472136   738.145808  117.582691   40.286606   2.812245\n",
       "min    1968.000000   873.400000  133.300000   82.540000   4.500000\n",
       "25%    1971.500000  1131.750000  180.700000   98.005000   5.480000\n",
       "50%    1975.000000  1549.200000  229.800000  125.790000   6.250000\n",
       "75%    1978.500000  2290.850000  394.450000  156.920000   9.055000\n",
       "max    1982.000000  3057.500000  471.500000  207.230000  13.420000"
      ]
     },
     "execution_count": 7,
     "metadata": {},
     "output_type": "execute_result"
    }
   ],
   "source": [
    "df.describe()\n"
   ]
  },
  {
   "cell_type": "markdown",
   "metadata": {},
   "source": [
    "2. Réaliser le graph suivant : la variable “Gross National Product” (GNP, column “gnp”) est en abscisse et la variable “Investment” (column “invest”) est en ordonnée. Transformer les 2 variables précédentes en échelle logarithmique. Nous travaillerons désormais avec les 2 nouvelles variables."
   ]
  },
  {
   "cell_type": "code",
   "execution_count": 8,
   "metadata": {},
   "outputs": [
    {
     "data": {
      "image/png": "[encoded data removed]",
      "text/plain": [
       "<Figure size 576x360 with 1 Axes>"
      ]
     },
     "metadata": {
      "needs_background": "light"
     },
     "output_type": "display_data"
    }
   ],
   "source": [
    "#fig = plt.figure()\n",
    "#ax = fig.add_subplot(1,1,1)\n",
    "#ax.plot(df['gnp'], df['invest'])\n",
    "#ax.set_xlabel('Gross National Product')\n",
    "\n",
    "plt.figure(figsize=(8,5))\n",
    "plt.xlabel('Gross National Product')\n",
    "plt.ylabel('Investment')\n",
    "\n",
    "plt.plot(df['gnp'], df['invest'], \"o\")\n",
    "plt.title(\"Investment by Gross National Product\")\n",
    "plt.legend()\n",
    "plt.show()"
   ]
  },
  {
   "cell_type": "markdown",
   "metadata": {},
   "source": [
    "3) Pour la régression de ”Investment” (variable à expliquer, output) sur ”GNP” (variable explicative, covariable), estimer l’intercept et la pente, leurs écart-types, ainsi que le coefficient de détermination. Les afficher dans une forme lisible. Dans la suite le vecteur contenant l’intercept et la pente est noté θˆn dans R^2 ."
   ]
  },
  {
   "cell_type": "code",
   "execution_count": 9,
   "metadata": {},
   "outputs": [
    {
     "data": {
      "image/png": "[encoded data removed]",
      "text/plain": [
       "<Figure size 576x360 with 1 Axes>"
      ]
     },
     "metadata": {
      "needs_background": "light"
     },
     "output_type": "display_data"
    }
   ],
   "source": [
    "#Transformation des variables selon l'échelle logarythmique\n",
    "X_log = df['gnp'].apply(np.log)\n",
    "Y_log = df['invest'].apply(np.log)\n",
    "\n",
    "plt.figure(figsize=(8,5))\n",
    "plt.xlabel('Gross National Product')\n",
    "plt.ylabel('Investment')\n",
    "\n",
    "plt.plot(X_log, Y_log, \"o\")\n",
    "plt.title(\"Investment by Gross National Product\")\n",
    "plt.legend()\n",
    "plt.show()"
   ]
  },
  {
   "cell_type": "code",
   "execution_count": 10,
   "metadata": {},
   "outputs": [
    {
     "name": "stdout",
     "output_type": "stream",
     "text": [
      "Beta0 = -1.963591 Beta1 = 1.015281\n"
     ]
    },
    {
     "data": {
      "text/plain": [
       "[<matplotlib.lines.Line2D at 0x1a232a0668>]"
      ]
     },
     "execution_count": 10,
     "metadata": {},
     "output_type": "execute_result"
    },
    {
     "data": {
      "image/png": "[encoded data removed]",
      "text/plain": [
       "<Figure size 576x360 with 1 Axes>"
      ]
     },
     "metadata": {
      "needs_background": "light"
     },
     "output_type": "display_data"
    }
   ],
   "source": [
    "# Calcul des moyennes\n",
    "Y_mean = Y_log.mean()\n",
    "X_mean = X_log.mean()\n",
    "\n",
    "# Calcul des variances\n",
    "X_var = X_log.var(ddof=0)\n",
    "Y_var = Y_log.var(ddof=0)\n",
    "\n",
    "#Beta1 = (X_log - X_mean).T.dot(Y_log - Y_mean) / np.sum((X_log - X_mean)**2)\n",
    "Beta1 = ((X_log - X_mean) * (Y_log - Y_mean)).mean() / X_var\n",
    "Beta0 = Y_mean - Beta1 * X_mean\n",
    "\n",
    "print(\"Beta0 = {:f} Beta1 = {:f}\".format(Beta0,Beta1))\n",
    "\n",
    "plt.figure(figsize=(8,5))\n",
    "plt.plot(X_log, X_log * Beta1 + Beta0)\n",
    "plt.plot(X_log, Y_log, \"o\")"
   ]
  },
  {
   "cell_type": "code",
   "execution_count": 11,
   "metadata": {},
   "outputs": [
    {
     "name": "stdout",
     "output_type": "stream",
     "text": [
      "Sigma carré = 0.007676\n",
      "EcartTypeBeta0 = 0.409547\n",
      "EcartTypeBeta1 = 0.055383\n"
     ]
    }
   ],
   "source": [
    "N = df['gnp'].count()\n",
    "SigmaSquare = (1 / (N - 2) ) * np.sum((Y_log - (Beta0 + Beta1 * X_log))**2)\n",
    "print(\"Sigma carré = %f\" % SigmaSquare)\n",
    "\n",
    "#VarBeta0 = SigmaSquare *(1/N + X_mean**2 /np.sum((X_log - X_mean)**2))\n",
    "VarBeta0 = SigmaSquare *(1/N + X_mean**2 / (N * X_var))\n",
    "EcartTypeBeta0 = np.sqrt(VarBeta0)\n",
    "\n",
    "VarBeta1 = SigmaSquare / (N * X_var)\n",
    "EcartTypeBeta1 = np.sqrt(VarBeta1)\n",
    "\n",
    "print(\"EcartTypeBeta0 = %f\" % EcartTypeBeta0)\n",
    "print(\"EcartTypeBeta1 = %f\" % EcartTypeBeta1)"
   ]
  },
  {
   "cell_type": "code",
   "execution_count": 12,
   "metadata": {},
   "outputs": [],
   "source": [
    "# Coéficient de détermination (formule sans le \"1 -\")\n",
    "R2 = np.sum((Beta0 + Beta1 * X_log - Y_mean)**2) / np.sum((Y_log - Y_mean)**2)"
   ]
  },
  {
   "cell_type": "code",
   "execution_count": 13,
   "metadata": {},
   "outputs": [
    {
     "name": "stdout",
     "output_type": "stream",
     "text": [
      "Coefficient R2 = 0.962757\n"
     ]
    }
   ],
   "source": [
    "print(\"Coefficient R2 = %f\" % R2)"
   ]
  },
  {
   "cell_type": "code",
   "execution_count": 14,
   "metadata": {},
   "outputs": [
    {
     "name": "stdout",
     "output_type": "stream",
     "text": [
      "Quantile de Student alpha 0.05, 13 degrés = -1.770933\n"
     ]
    }
   ],
   "source": [
    "# Quantile Student à N - 2 = 13 degrés de liberté pour alpha = 0.05\n",
    "alpha = 0.05\n",
    "QuantStudent = stats.t.ppf(alpha,N-2)\n",
    "print(\"Quantile de Student alpha 0.05, 13 degrés = %f\" % QuantStudent)"
   ]
  },
  {
   "cell_type": "code",
   "execution_count": 15,
   "metadata": {},
   "outputs": [
    {
     "name": "stdout",
     "output_type": "stream",
     "text": [
      "statistique de test :  18.33198445686667\n",
      "P-valeur : 1.1363709973011282e-10\n",
      "La p-valeur est très petite donc Beta1 est significatif\n"
     ]
    }
   ],
   "source": [
    "# La statistique de test est : Beta1 - 0 / Ecartype de Beta1\n",
    "# on fait l'hypothèse de Beta1vrai = 0 pour voir si Beta1 est significatif\n",
    "T1 = Beta1 / EcartTypeBeta1\n",
    "print(\"statistique de test : \", T1)\n",
    "# p-valeur\n",
    "Pvaleur1 = (1 - stats.t.cdf(np.abs(T1),N - 2)) * 2\n",
    "print(\"P-valeur : \" + str(Pvaleur1))\n",
    "print(\"La p-valeur est très petite donc Beta1 est significatif\")"
   ]
  },
  {
   "cell_type": "markdown",
   "metadata": {},
   "source": [
    "5) Pour GNP égal à 1000, estimer l’investissement prédit par le modèle. Pour GNP égal à 1000, donner l’intervalle de confiance pour la valeur prédite et l’intervalle de confiance pour la variable à ex- pliquer “Investment”, au niveau 90%. On pourra se référer à la section 3.1.3 “Confidence intervals for the predicted values” du polycopié dans laquelle chaque intervalle est défini, CIpxq et PIpxq, respectivement (avec les notations du polycopié, x “ p1, 1000qT )."
   ]
  },
  {
   "cell_type": "code",
   "execution_count": 16,
   "metadata": {},
   "outputs": [
    {
     "name": "stdout",
     "output_type": "stream",
     "text": [
      "Prédiction log : GNP = 6.907755, prédiction = 5.049724\n",
      "Prédiction origine GNP = 1000, prédiction = 155.979428\n"
     ]
    }
   ],
   "source": [
    "# Prédiction pour GNP = 1000\n",
    "X_new = 1000\n",
    "X_new_log = np.log(X_new)\n",
    "YPred_log = Beta0 + Beta1 * X_new_log\n",
    "print(\"Prédiction log : GNP = %f, prédiction = %f\" % (X_new_log,YPred_log))\n",
    "print(\"Prédiction origine GNP = 1000, prédiction = %f\" % np.exp(YPred_log ))"
   ]
  },
  {
   "cell_type": "code",
   "execution_count": 17,
   "metadata": {},
   "outputs": [
    {
     "name": "stdout",
     "output_type": "stream",
     "text": [
      "variance de Y chapeau (pour GNP = 1000) = 0.034728\n"
     ]
    }
   ],
   "source": [
    "# page 24 poly - Question 5\n",
    "var_Yhat = np.sqrt(SigmaSquare) * np.sqrt( 1/N + ((X_new_log - X_mean)**2) /np.sum((X_log - X_mean)**2))\n",
    "print(\"variance de Y chapeau (pour GNP = 1000) = %f\" % var_Yhat)"
   ]
  },
  {
   "cell_type": "code",
   "execution_count": 18,
   "metadata": {},
   "outputs": [
    {
     "name": "stdout",
     "output_type": "stream",
     "text": [
      "Yprédiction log = 5.049724 - IC [4.988223, 5.111225]\n"
     ]
    }
   ],
   "source": [
    "# IC\n",
    "alpha = 0.1\n",
    "QuantStudent = stats.t.ppf(1 - alpha/2,N-2)\n",
    "\n",
    "BorneInf = YPred_log - var_Yhat * QuantStudent\n",
    "BorneSup = YPred_log + var_Yhat * QuantStudent\n",
    "print(\"Yprédiction log = %f - IC [%f, %f]\" % (YPred_log,BorneInf,BorneSup))"
   ]
  },
  {
   "cell_type": "code",
   "execution_count": 19,
   "metadata": {},
   "outputs": [
    {
     "name": "stdout",
     "output_type": "stream",
     "text": [
      "variance de Y à expliquer = 0.094246\n"
     ]
    }
   ],
   "source": [
    "var_Y_Aexpliquer = np.sqrt(SigmaSquare) * np.sqrt(1 + 1/N + ((X_new_log - X_mean)**2) /np.sum((X_log - X_mean)**2))\n",
    "print(\"variance de Y à expliquer = %f\" % var_Y_Aexpliquer)"
   ]
  },
  {
   "cell_type": "code",
   "execution_count": 20,
   "metadata": {},
   "outputs": [
    {
     "name": "stdout",
     "output_type": "stream",
     "text": [
      "Yprédiction log = 5.049724 - IP [4.882820, 5.216628]\n"
     ]
    }
   ],
   "source": [
    "alpha = 0.1\n",
    "QuantStudent = stats.t.ppf(1 - alpha/2,N-2)\n",
    "\n",
    "BorneInf = YPred_log - var_Y_Aexpliquer * QuantStudent\n",
    "BorneSup = YPred_log + var_Y_Aexpliquer * QuantStudent\n",
    "\n",
    "print(\"Yprédiction log = %f - IP [%f, %f]\" % (YPred_log,BorneInf,BorneSup))"
   ]
  },
  {
   "cell_type": "markdown",
   "metadata": {},
   "source": [
    "6) Sur un graphe avec échelle logarithmique, avec GNP en abscisse et investment en ordonnée, tracer les données, la droite de régression, ainsi que les intervalle CI et PI (pour toutes les valeurs de log(GNP) comprises entre le maximum et le minimum observé sur les données)"
   ]
  },
  {
   "cell_type": "code",
   "execution_count": 21,
   "metadata": {},
   "outputs": [],
   "source": [
    "df['gnp_log'] = X_log\n",
    "df['invest_log'] = Y_log\n",
    "df = df[['year','gnp','invest','gnp_log', 'invest_log', 'cpi', 'interest']]"
   ]
  },
  {
   "cell_type": "code",
   "execution_count": 22,
   "metadata": {},
   "outputs": [],
   "source": [
    "def calculate_borne_inf_CI(x):\n",
    "    y = Beta0 + Beta1 * x\n",
    "    varpred = np.sqrt(SigmaSquare) * np.sqrt( 1/N + ((x - X_mean)**2) /np.sum((X_log - X_mean)**2))\n",
    "    return y - varpred * QuantStudent"
   ]
  },
  {
   "cell_type": "code",
   "execution_count": 23,
   "metadata": {},
   "outputs": [],
   "source": [
    "def calculate_borne_sup_CI(x):\n",
    "    y = Beta0 + Beta1 * x\n",
    "    varpred = np.sqrt(SigmaSquare) * np.sqrt( 1/N + ((x - X_mean)**2) /np.sum((X_log - X_mean)**2))\n",
    "    return y + varpred * QuantStudent"
   ]
  },
  {
   "cell_type": "code",
   "execution_count": 24,
   "metadata": {},
   "outputs": [],
   "source": [
    "df['prédiction'] = Beta0 + Beta1 * X_log\n",
    "df['CI_Inf'] = calculate_borne_inf_CI(df['gnp_log'])\n",
    "df['CI_Sup'] = calculate_borne_sup_CI(df['gnp_log'])"
   ]
  },
  {
   "cell_type": "code",
   "execution_count": 25,
   "metadata": {},
   "outputs": [],
   "source": [
    "def calculate_borne_inf_PI(x):\n",
    "    y = Beta0 + Beta1 * x\n",
    "    varexp = np.sqrt(SigmaSquare) * np.sqrt(1 + 1/N + ((x - X_mean)**2) /np.sum((X_log - X_mean)**2))\n",
    "    return y - varexp * QuantStudent"
   ]
  },
  {
   "cell_type": "code",
   "execution_count": 26,
   "metadata": {},
   "outputs": [],
   "source": [
    "def calculate_borne_sup_PI(x):\n",
    "    y = Beta0 + Beta1 * x\n",
    "    varexp = np.sqrt(SigmaSquare) * np.sqrt(1 + 1/N + ((x - X_mean)**2) /np.sum((X_log - X_mean)**2))\n",
    "    return y + varexp * QuantStudent"
   ]
  },
  {
   "cell_type": "code",
   "execution_count": 27,
   "metadata": {},
   "outputs": [
    {
     "data": {
      "text/html": [
       "<div>\n",
       "<style scoped>\n",
       "    .dataframe tbody tr th:only-of-type {\n",
       "        vertical-align: middle;\n",
       "    }\n",
       "\n",
       "    .dataframe tbody tr th {\n",
       "        vertical-align: top;\n",
       "    }\n",
       "\n",
       "    .dataframe thead th {\n",
       "        text-align: right;\n",
       "    }\n",
       "</style>\n",
       "<table border=\"1\" class=\"dataframe\">\n",
       "  <thead>\n",
       "    <tr style=\"text-align: right;\">\n",
       "      <th></th>\n",
       "      <th>year</th>\n",
       "      <th>gnp</th>\n",
       "      <th>invest</th>\n",
       "      <th>gnp_log</th>\n",
       "      <th>invest_log</th>\n",
       "      <th>cpi</th>\n",
       "      <th>interest</th>\n",
       "      <th>prédiction</th>\n",
       "      <th>CI_Inf</th>\n",
       "      <th>CI_Sup</th>\n",
       "      <th>PI_Inf</th>\n",
       "      <th>PI_Sup</th>\n",
       "    </tr>\n",
       "  </thead>\n",
       "  <tbody>\n",
       "    <tr>\n",
       "      <th>0</th>\n",
       "      <td>1968</td>\n",
       "      <td>873.4</td>\n",
       "      <td>133.3</td>\n",
       "      <td>6.772394</td>\n",
       "      <td>4.892602</td>\n",
       "      <td>82.54</td>\n",
       "      <td>5.16</td>\n",
       "      <td>4.912294</td>\n",
       "      <td>4.840199</td>\n",
       "      <td>4.984389</td>\n",
       "      <td>4.741203</td>\n",
       "      <td>5.083385</td>\n",
       "    </tr>\n",
       "    <tr>\n",
       "      <th>1</th>\n",
       "      <td>1969</td>\n",
       "      <td>944.0</td>\n",
       "      <td>149.3</td>\n",
       "      <td>6.850126</td>\n",
       "      <td>5.005958</td>\n",
       "      <td>86.79</td>\n",
       "      <td>5.87</td>\n",
       "      <td>4.991214</td>\n",
       "      <td>4.925322</td>\n",
       "      <td>5.057107</td>\n",
       "      <td>4.822643</td>\n",
       "      <td>5.159786</td>\n",
       "    </tr>\n",
       "    <tr>\n",
       "      <th>2</th>\n",
       "      <td>1970</td>\n",
       "      <td>992.7</td>\n",
       "      <td>144.2</td>\n",
       "      <td>6.900429</td>\n",
       "      <td>4.971201</td>\n",
       "      <td>91.45</td>\n",
       "      <td>5.95</td>\n",
       "      <td>5.042285</td>\n",
       "      <td>4.980237</td>\n",
       "      <td>5.104334</td>\n",
       "      <td>4.875179</td>\n",
       "      <td>5.209392</td>\n",
       "    </tr>\n",
       "    <tr>\n",
       "      <th>3</th>\n",
       "      <td>1971</td>\n",
       "      <td>1077.6</td>\n",
       "      <td>166.4</td>\n",
       "      <td>6.982492</td>\n",
       "      <td>5.114395</td>\n",
       "      <td>96.01</td>\n",
       "      <td>4.88</td>\n",
       "      <td>5.125603</td>\n",
       "      <td>5.069459</td>\n",
       "      <td>5.181746</td>\n",
       "      <td>4.960598</td>\n",
       "      <td>5.290607</td>\n",
       "    </tr>\n",
       "    <tr>\n",
       "      <th>4</th>\n",
       "      <td>1972</td>\n",
       "      <td>1185.9</td>\n",
       "      <td>195.0</td>\n",
       "      <td>7.078257</td>\n",
       "      <td>5.273000</td>\n",
       "      <td>100.00</td>\n",
       "      <td>4.50</td>\n",
       "      <td>5.222832</td>\n",
       "      <td>5.172818</td>\n",
       "      <td>5.272845</td>\n",
       "      <td>5.059810</td>\n",
       "      <td>5.385853</td>\n",
       "    </tr>\n",
       "    <tr>\n",
       "      <th>5</th>\n",
       "      <td>1973</td>\n",
       "      <td>1326.4</td>\n",
       "      <td>229.8</td>\n",
       "      <td>7.190224</td>\n",
       "      <td>5.437209</td>\n",
       "      <td>105.75</td>\n",
       "      <td>6.44</td>\n",
       "      <td>5.336509</td>\n",
       "      <td>5.292188</td>\n",
       "      <td>5.380831</td>\n",
       "      <td>5.175143</td>\n",
       "      <td>5.497875</td>\n",
       "    </tr>\n",
       "    <tr>\n",
       "      <th>6</th>\n",
       "      <td>1974</td>\n",
       "      <td>1434.2</td>\n",
       "      <td>228.7</td>\n",
       "      <td>7.268362</td>\n",
       "      <td>5.432411</td>\n",
       "      <td>115.08</td>\n",
       "      <td>7.83</td>\n",
       "      <td>5.415842</td>\n",
       "      <td>5.374218</td>\n",
       "      <td>5.457466</td>\n",
       "      <td>5.255196</td>\n",
       "      <td>5.576488</td>\n",
       "    </tr>\n",
       "    <tr>\n",
       "      <th>7</th>\n",
       "      <td>1975</td>\n",
       "      <td>1549.2</td>\n",
       "      <td>206.1</td>\n",
       "      <td>7.345494</td>\n",
       "      <td>5.328361</td>\n",
       "      <td>125.79</td>\n",
       "      <td>6.25</td>\n",
       "      <td>5.494152</td>\n",
       "      <td>5.453917</td>\n",
       "      <td>5.534387</td>\n",
       "      <td>5.333860</td>\n",
       "      <td>5.654444</td>\n",
       "    </tr>\n",
       "    <tr>\n",
       "      <th>8</th>\n",
       "      <td>1976</td>\n",
       "      <td>1718.0</td>\n",
       "      <td>257.9</td>\n",
       "      <td>7.448916</td>\n",
       "      <td>5.552572</td>\n",
       "      <td>132.34</td>\n",
       "      <td>5.50</td>\n",
       "      <td>5.599155</td>\n",
       "      <td>5.558582</td>\n",
       "      <td>5.639727</td>\n",
       "      <td>5.438778</td>\n",
       "      <td>5.759531</td>\n",
       "    </tr>\n",
       "    <tr>\n",
       "      <th>9</th>\n",
       "      <td>1977</td>\n",
       "      <td>1918.3</td>\n",
       "      <td>324.1</td>\n",
       "      <td>7.559195</td>\n",
       "      <td>5.781052</td>\n",
       "      <td>140.05</td>\n",
       "      <td>5.46</td>\n",
       "      <td>5.711118</td>\n",
       "      <td>5.667508</td>\n",
       "      <td>5.754729</td>\n",
       "      <td>5.549946</td>\n",
       "      <td>5.872290</td>\n",
       "    </tr>\n",
       "    <tr>\n",
       "      <th>10</th>\n",
       "      <td>1978</td>\n",
       "      <td>2163.9</td>\n",
       "      <td>386.6</td>\n",
       "      <td>7.679667</td>\n",
       "      <td>5.957391</td>\n",
       "      <td>150.42</td>\n",
       "      <td>7.46</td>\n",
       "      <td>5.833432</td>\n",
       "      <td>5.783948</td>\n",
       "      <td>5.882916</td>\n",
       "      <td>5.670573</td>\n",
       "      <td>5.996292</td>\n",
       "    </tr>\n",
       "    <tr>\n",
       "      <th>11</th>\n",
       "      <td>1979</td>\n",
       "      <td>2417.8</td>\n",
       "      <td>423.0</td>\n",
       "      <td>7.790613</td>\n",
       "      <td>6.047372</td>\n",
       "      <td>163.42</td>\n",
       "      <td>10.28</td>\n",
       "      <td>5.946073</td>\n",
       "      <td>5.889512</td>\n",
       "      <td>6.002635</td>\n",
       "      <td>5.780926</td>\n",
       "      <td>6.111221</td>\n",
       "    </tr>\n",
       "    <tr>\n",
       "      <th>12</th>\n",
       "      <td>1980</td>\n",
       "      <td>2633.1</td>\n",
       "      <td>402.3</td>\n",
       "      <td>7.875917</td>\n",
       "      <td>5.997198</td>\n",
       "      <td>178.64</td>\n",
       "      <td>11.77</td>\n",
       "      <td>6.032681</td>\n",
       "      <td>5.969933</td>\n",
       "      <td>6.095429</td>\n",
       "      <td>5.865313</td>\n",
       "      <td>6.200048</td>\n",
       "    </tr>\n",
       "    <tr>\n",
       "      <th>13</th>\n",
       "      <td>1981</td>\n",
       "      <td>2937.7</td>\n",
       "      <td>471.5</td>\n",
       "      <td>7.985382</td>\n",
       "      <td>6.155919</td>\n",
       "      <td>195.51</td>\n",
       "      <td>13.42</td>\n",
       "      <td>6.143819</td>\n",
       "      <td>6.072478</td>\n",
       "      <td>6.215160</td>\n",
       "      <td>5.973044</td>\n",
       "      <td>6.314594</td>\n",
       "    </tr>\n",
       "    <tr>\n",
       "      <th>14</th>\n",
       "      <td>1982</td>\n",
       "      <td>3057.5</td>\n",
       "      <td>421.9</td>\n",
       "      <td>8.025353</td>\n",
       "      <td>6.044768</td>\n",
       "      <td>207.23</td>\n",
       "      <td>11.02</td>\n",
       "      <td>6.184400</td>\n",
       "      <td>6.109783</td>\n",
       "      <td>6.259018</td>\n",
       "      <td>6.012231</td>\n",
       "      <td>6.356570</td>\n",
       "    </tr>\n",
       "  </tbody>\n",
       "</table>\n",
       "</div>"
      ],
      "text/plain": [
       "    year     gnp  invest   gnp_log  invest_log     cpi  interest  prédiction  \\\n",
       "0   1968   873.4   133.3  6.772394    4.892602   82.54      5.16    4.912294   \n",
       "1   1969   944.0   149.3  6.850126    5.005958   86.79      5.87    4.991214   \n",
       "2   1970   992.7   144.2  6.900429    4.971201   91.45      5.95    5.042285   \n",
       "3   1971  1077.6   166.4  6.982492    5.114395   96.01      4.88    5.125603   \n",
       "4   1972  1185.9   195.0  7.078257    5.273000  100.00      4.50    5.222832   \n",
       "5   1973  1326.4   229.8  7.190224    5.437209  105.75      6.44    5.336509   \n",
       "6   1974  1434.2   228.7  7.268362    5.432411  115.08      7.83    5.415842   \n",
       "7   1975  1549.2   206.1  7.345494    5.328361  125.79      6.25    5.494152   \n",
       "8   1976  1718.0   257.9  7.448916    5.552572  132.34      5.50    5.599155   \n",
       "9   1977  1918.3   324.1  7.559195    5.781052  140.05      5.46    5.711118   \n",
       "10  1978  2163.9   386.6  7.679667    5.957391  150.42      7.46    5.833432   \n",
       "11  1979  2417.8   423.0  7.790613    6.047372  163.42     10.28    5.946073   \n",
       "12  1980  2633.1   402.3  7.875917    5.997198  178.64     11.77    6.032681   \n",
       "13  1981  2937.7   471.5  7.985382    6.155919  195.51     13.42    6.143819   \n",
       "14  1982  3057.5   421.9  8.025353    6.044768  207.23     11.02    6.184400   \n",
       "\n",
       "      CI_Inf    CI_Sup    PI_Inf    PI_Sup  \n",
       "0   4.840199  4.984389  4.741203  5.083385  \n",
       "1   4.925322  5.057107  4.822643  5.159786  \n",
       "2   4.980237  5.104334  4.875179  5.209392  \n",
       "3   5.069459  5.181746  4.960598  5.290607  \n",
       "4   5.172818  5.272845  5.059810  5.385853  \n",
       "5   5.292188  5.380831  5.175143  5.497875  \n",
       "6   5.374218  5.457466  5.255196  5.576488  \n",
       "7   5.453917  5.534387  5.333860  5.654444  \n",
       "8   5.558582  5.639727  5.438778  5.759531  \n",
       "9   5.667508  5.754729  5.549946  5.872290  \n",
       "10  5.783948  5.882916  5.670573  5.996292  \n",
       "11  5.889512  6.002635  5.780926  6.111221  \n",
       "12  5.969933  6.095429  5.865313  6.200048  \n",
       "13  6.072478  6.215160  5.973044  6.314594  \n",
       "14  6.109783  6.259018  6.012231  6.356570  "
      ]
     },
     "execution_count": 27,
     "metadata": {},
     "output_type": "execute_result"
    }
   ],
   "source": [
    "df['PI_Inf'] = calculate_borne_inf_PI(df['gnp_log'])\n",
    "df['PI_Sup'] = calculate_borne_sup_PI(df['gnp_log'])\n",
    "df"
   ]
  },
  {
   "cell_type": "code",
   "execution_count": 28,
   "metadata": {},
   "outputs": [
    {
     "data": {
      "text/plain": [
       "<matplotlib.legend.Legend at 0x1a2312cbe0>"
      ]
     },
     "execution_count": 28,
     "metadata": {},
     "output_type": "execute_result"
    },
    {
     "data": {
      "image/png": "[encoded data removed]",
      "text/plain": [
       "<Figure size 576x360 with 1 Axes>"
      ]
     },
     "metadata": {
      "needs_background": "light"
     },
     "output_type": "display_data"
    }
   ],
   "source": [
    "plt.figure(figsize=(8,5))\n",
    "plt.xlabel('Gross National Product')\n",
    "plt.ylabel('Investment')\n",
    "plt.plot(X_log, X_log * Beta1 + Beta0, label='invest fit')\n",
    "plt.plot(X_log, Y_log, \"o\", label='invest data')\n",
    "plt.fill_between(X_log, df['CI_Inf'], df['CI_Sup'], color = '#539cff', alpha = 0.4, label = '90% CI')\n",
    "plt.fill_between(X_log, df['PI_Inf'], df['PI_Sup'], color = '#8888aa', alpha = 0.4, label = '90% PI')\n",
    "plt.title(\"Investment per GNP with manual OLS prediction\")\n",
    "plt.legend()"
   ]
  },
  {
   "cell_type": "markdown",
   "metadata": {},
   "source": [
    "7) En utilisant des classes/librairies existantes, donner l’intercept, la pente, le coefficient de dé- termination ainsi que l’investissement prédit par le modèle quand GNP vaut 100. La classe LinearRegression() de sklearn.linear_model est suggérée mais pas obligatoire. Vérifier que les valeurs calculées ici coïncident avec celles des questions précédentes."
   ]
  },
  {
   "cell_type": "code",
   "execution_count": 29,
   "metadata": {},
   "outputs": [
    {
     "name": "stdout",
     "output_type": "stream",
     "text": [
      "ScikitLearn : Beta0 = -1.963591, Beta1 = 1.015281\n",
      "Calcul manuel : Beta0 = -1.963591, Beta1 = 1.015281\n",
      "Les Beta0 sont-ils proches ? True\n",
      "Les Beta1 sont-ils proches ? True\n"
     ]
    }
   ],
   "source": [
    "regr = linear_model.LinearRegression()\n",
    "regr.fit(df[['gnp_log']],Y_log)\n",
    "Beta0Sklearn = regr.intercept_\n",
    "Beta1Sklearn = regr.coef_[0]\n",
    "print(\"ScikitLearn : Beta0 = {:f}, Beta1 = {:f}\".format(Beta0Sklearn,Beta1Sklearn))\n",
    "print(\"Calcul manuel : Beta0 = {:f}, Beta1 = {:f}\".format(Beta0,Beta1))\n",
    "print(\"Les Beta0 sont-ils proches ? {}\".format(np.isclose(Beta0, Beta0Sklearn)))\n",
    "print(\"Les Beta1 sont-ils proches ? {}\".format(np.isclose(Beta1, Beta1Sklearn)))"
   ]
  },
  {
   "cell_type": "code",
   "execution_count": 30,
   "metadata": {},
   "outputs": [
    {
     "name": "stdout",
     "output_type": "stream",
     "text": [
      "Prédition SciKitLearn pour GNP = 1000 : 155.979428\n",
      "Prédiction manuelle pour GNP = 1000 : 155.979428\n",
      "Les prédictions sont-elles proches ? True\n"
     ]
    }
   ],
   "source": [
    "X_new_log = np.log(1000)\n",
    "# En utilisant les coefficients Beta individuellement\n",
    "# InvestPred_Gnp1000 = np.exp(Beta0Sklearn + X_new_log * Beta1Sklearn)\n",
    "\n",
    "# En utilisant la fonction predict sur une valeur directement\n",
    "InvestPred_Gnp1000 = np.exp(regr.predict([[X_new_log]]))[0]\n",
    "print(\"Prédition SciKitLearn pour GNP = 1000 : {:f}\".format(InvestPred_Gnp1000))\n",
    "print(\"Prédiction manuelle pour GNP = 1000 : {:f}\".format(np.exp(YPred_log)))\n",
    "print(\"Les prédictions sont-elles proches ? {}\".format(np.isclose(np.exp(YPred_log),InvestPred_Gnp1000)))"
   ]
  },
  {
   "cell_type": "code",
   "execution_count": 31,
   "metadata": {},
   "outputs": [],
   "source": [
    "# Prédictions Sklearn sur toutes les données X\n",
    "Y_pred_Sklearn = regr.predict(pd.DataFrame(X_log))\n"
   ]
  },
  {
   "cell_type": "code",
   "execution_count": 32,
   "metadata": {},
   "outputs": [
    {
     "name": "stdout",
     "output_type": "stream",
     "text": [
      "Coefficient R2 de SciKitLearn = 0.962757\n",
      "error quad :0.006652826748065679\n"
     ]
    }
   ],
   "source": [
    "R2_Sklearn = r2_score(y_pred=Y_pred_Sklearn,y_true=Y_log)\n",
    "print(\"Coefficient R2 de SciKitLearn = {:f}\".format(R2_Sklearn))\n",
    "print(\"error quad :{}\".format(mean_squared_error(y_pred=Y_pred_Sklearn,y_true=Y_log)))"
   ]
  },
  {
   "cell_type": "markdown",
   "metadata": {},
   "source": [
    "8) Sur un graph avec échelle logarithmique, avec GNP en abscisse et investment en ordonnée, tracer les données, la droite de régression, ainsi que l’investissement prédit par le modèle quand GNP vaut 1000 (on donnera à ce point une couleur différente)."
   ]
  },
  {
   "cell_type": "code",
   "execution_count": 33,
   "metadata": {},
   "outputs": [
    {
     "data": {
      "text/plain": [
       "<matplotlib.legend.Legend at 0x1a23137c50>"
      ]
     },
     "execution_count": 33,
     "metadata": {},
     "output_type": "execute_result"
    },
    {
     "data": {
      "image/png": "[encoded data removed]",
      "text/plain": [
       "<Figure size 576x360 with 1 Axes>"
      ]
     },
     "metadata": {
      "needs_background": "light"
     },
     "output_type": "display_data"
    }
   ],
   "source": [
    "plt.figure(figsize=(8,5))\n",
    "plt.xlabel('Gross National Product')\n",
    "plt.ylabel('Investment')\n",
    "plt.plot(X_log, Beta0Sklearn + X_log * Beta1Sklearn, label='invest fit')\n",
    "#abscisse = np.linspace(X_log.min(), X_log.max())\n",
    "#plt.plot(abscisse, Beta0Sklearn + abscisse * Beta1Sklearn, label='invest fit')\n",
    "\n",
    "plt.plot(X_log, Y_log, \"o\", label='invest data')\n",
    "plt.plot(X_new_log, np.log(InvestPred_Gnp1000), \"+\", markersize=12, color='black', label =\"GNP = 1000\")\n",
    "plt.title(\"Investment per GNP with SciKitLearn prediction\")\n",
    "plt.legend()"
   ]
  },
  {
   "cell_type": "markdown",
   "metadata": {},
   "source": [
    "Note : On introduit une nouvelle variable explicative, la variable interest (sans transformation loga- rithmique). Les questions suivantes (9 à 12) doivent être réalisées par l’intermédiaire d’opéra- tions élémentaires, sans utiliser de librairies existantes (on utilisera par exemple inv et eig de numpy.linalg).\n",
    "\n",
    "9 )Pour la régression de Investment sur GNP et interest, calculer la matrice de Gram. Est-elle de rang plein ?"
   ]
  },
  {
   "cell_type": "code",
   "execution_count": 34,
   "metadata": {},
   "outputs": [
    {
     "data": {
      "text/html": [
       "<div>\n",
       "<style scoped>\n",
       "    .dataframe tbody tr th:only-of-type {\n",
       "        vertical-align: middle;\n",
       "    }\n",
       "\n",
       "    .dataframe tbody tr th {\n",
       "        vertical-align: top;\n",
       "    }\n",
       "\n",
       "    .dataframe thead th {\n",
       "        text-align: right;\n",
       "    }\n",
       "</style>\n",
       "<table border=\"1\" class=\"dataframe\">\n",
       "  <thead>\n",
       "    <tr style=\"text-align: right;\">\n",
       "      <th></th>\n",
       "      <th>ones</th>\n",
       "      <th>gnp_log</th>\n",
       "      <th>interest</th>\n",
       "    </tr>\n",
       "  </thead>\n",
       "  <tbody>\n",
       "    <tr>\n",
       "      <th>0</th>\n",
       "      <td>1.0</td>\n",
       "      <td>6.772394</td>\n",
       "      <td>5.16</td>\n",
       "    </tr>\n",
       "    <tr>\n",
       "      <th>1</th>\n",
       "      <td>1.0</td>\n",
       "      <td>6.850126</td>\n",
       "      <td>5.87</td>\n",
       "    </tr>\n",
       "    <tr>\n",
       "      <th>2</th>\n",
       "      <td>1.0</td>\n",
       "      <td>6.900429</td>\n",
       "      <td>5.95</td>\n",
       "    </tr>\n",
       "    <tr>\n",
       "      <th>3</th>\n",
       "      <td>1.0</td>\n",
       "      <td>6.982492</td>\n",
       "      <td>4.88</td>\n",
       "    </tr>\n",
       "    <tr>\n",
       "      <th>4</th>\n",
       "      <td>1.0</td>\n",
       "      <td>7.078257</td>\n",
       "      <td>4.50</td>\n",
       "    </tr>\n",
       "    <tr>\n",
       "      <th>5</th>\n",
       "      <td>1.0</td>\n",
       "      <td>7.190224</td>\n",
       "      <td>6.44</td>\n",
       "    </tr>\n",
       "    <tr>\n",
       "      <th>6</th>\n",
       "      <td>1.0</td>\n",
       "      <td>7.268362</td>\n",
       "      <td>7.83</td>\n",
       "    </tr>\n",
       "    <tr>\n",
       "      <th>7</th>\n",
       "      <td>1.0</td>\n",
       "      <td>7.345494</td>\n",
       "      <td>6.25</td>\n",
       "    </tr>\n",
       "    <tr>\n",
       "      <th>8</th>\n",
       "      <td>1.0</td>\n",
       "      <td>7.448916</td>\n",
       "      <td>5.50</td>\n",
       "    </tr>\n",
       "    <tr>\n",
       "      <th>9</th>\n",
       "      <td>1.0</td>\n",
       "      <td>7.559195</td>\n",
       "      <td>5.46</td>\n",
       "    </tr>\n",
       "    <tr>\n",
       "      <th>10</th>\n",
       "      <td>1.0</td>\n",
       "      <td>7.679667</td>\n",
       "      <td>7.46</td>\n",
       "    </tr>\n",
       "    <tr>\n",
       "      <th>11</th>\n",
       "      <td>1.0</td>\n",
       "      <td>7.790613</td>\n",
       "      <td>10.28</td>\n",
       "    </tr>\n",
       "    <tr>\n",
       "      <th>12</th>\n",
       "      <td>1.0</td>\n",
       "      <td>7.875917</td>\n",
       "      <td>11.77</td>\n",
       "    </tr>\n",
       "    <tr>\n",
       "      <th>13</th>\n",
       "      <td>1.0</td>\n",
       "      <td>7.985382</td>\n",
       "      <td>13.42</td>\n",
       "    </tr>\n",
       "    <tr>\n",
       "      <th>14</th>\n",
       "      <td>1.0</td>\n",
       "      <td>8.025353</td>\n",
       "      <td>11.02</td>\n",
       "    </tr>\n",
       "  </tbody>\n",
       "</table>\n",
       "</div>"
      ],
      "text/plain": [
       "    ones   gnp_log  interest\n",
       "0    1.0  6.772394      5.16\n",
       "1    1.0  6.850126      5.87\n",
       "2    1.0  6.900429      5.95\n",
       "3    1.0  6.982492      4.88\n",
       "4    1.0  7.078257      4.50\n",
       "5    1.0  7.190224      6.44\n",
       "6    1.0  7.268362      7.83\n",
       "7    1.0  7.345494      6.25\n",
       "8    1.0  7.448916      5.50\n",
       "9    1.0  7.559195      5.46\n",
       "10   1.0  7.679667      7.46\n",
       "11   1.0  7.790613     10.28\n",
       "12   1.0  7.875917     11.77\n",
       "13   1.0  7.985382     13.42\n",
       "14   1.0  8.025353     11.02"
      ]
     },
     "execution_count": 34,
     "metadata": {},
     "output_type": "execute_result"
    }
   ],
   "source": [
    "# On insère une colonne de 1 dans le DataFrame\n",
    "df.insert(0,'ones',np.ones(X_log.size))\n",
    "\n",
    "# On construit la matrice X (c'est un dataFrame ici)\n",
    "matX = pd.concat([df['ones'],df['gnp_log'],df['interest']], axis=1 )\n",
    "matX"
   ]
  },
  {
   "cell_type": "code",
   "execution_count": 35,
   "metadata": {},
   "outputs": [
    {
     "data": {
      "text/html": [
       "<div>\n",
       "<style scoped>\n",
       "    .dataframe tbody tr th:only-of-type {\n",
       "        vertical-align: middle;\n",
       "    }\n",
       "\n",
       "    .dataframe tbody tr th {\n",
       "        vertical-align: top;\n",
       "    }\n",
       "\n",
       "    .dataframe thead th {\n",
       "        text-align: right;\n",
       "    }\n",
       "</style>\n",
       "<table border=\"1\" class=\"dataframe\">\n",
       "  <thead>\n",
       "    <tr style=\"text-align: right;\">\n",
       "      <th></th>\n",
       "      <th>ones</th>\n",
       "      <th>gnp_log</th>\n",
       "      <th>interest</th>\n",
       "    </tr>\n",
       "  </thead>\n",
       "  <tbody>\n",
       "    <tr>\n",
       "      <th>ones</th>\n",
       "      <td>15.000000</td>\n",
       "      <td>110.752821</td>\n",
       "      <td>111.790000</td>\n",
       "    </tr>\n",
       "    <tr>\n",
       "      <th>gnp_log</th>\n",
       "      <td>110.752821</td>\n",
       "      <td>820.248477</td>\n",
       "      <td>839.188543</td>\n",
       "    </tr>\n",
       "    <tr>\n",
       "      <th>interest</th>\n",
       "      <td>111.790000</td>\n",
       "      <td>839.188543</td>\n",
       "      <td>943.855700</td>\n",
       "    </tr>\n",
       "  </tbody>\n",
       "</table>\n",
       "</div>"
      ],
      "text/plain": [
       "                ones     gnp_log    interest\n",
       "ones       15.000000  110.752821  111.790000\n",
       "gnp_log   110.752821  820.248477  839.188543\n",
       "interest  111.790000  839.188543  943.855700"
      ]
     },
     "execution_count": 35,
     "metadata": {},
     "output_type": "execute_result"
    }
   ],
   "source": [
    "#On construit la matrice de Gram\n",
    "matGram = matX.T.dot(matX)\n",
    "matGram"
   ]
  },
  {
   "cell_type": "code",
   "execution_count": 36,
   "metadata": {},
   "outputs": [
    {
     "name": "stdout",
     "output_type": "stream",
     "text": [
      "Valeurs propres de MatGram : \n",
      "[1.73787190e+03 1.82369697e-02 4.12140362e+01]\n",
      "Nb valeurs propres non nulles : 3\n",
      "3 valeurs propres non nulles, donc elle est de plein rang\n",
      "Rang avec la library = 3.000000 \n"
     ]
    }
   ],
   "source": [
    "val_propres = np.linalg.eigvals(matGram)\n",
    "print(\"Valeurs propres de MatGram : \")\n",
    "print(val_propres)\n",
    "print(\"Nb valeurs propres non nulles : %d\" % np.sum(val_propres != 0))\n",
    "print(\"3 valeurs propres non nulles, donc elle est de plein rang\")\n",
    "print(\"Rang avec la library = {:f} \".format(np.linalg.matrix_rank(matGram)))"
   ]
  },
  {
   "cell_type": "markdown",
   "metadata": {},
   "source": [
    "10) Pour la régression de Investment sur GNP et interest, estimer les 3 coefficients et leurs écart- types ainsi que le coefficient de détermination. En plus, faire un test de Student de significativité de chaque coefficient (donner la statistique de test et la p-valeur). Afficher les résultats dans une forme convenable. Discuter de la significativité des coefficients."
   ]
  },
  {
   "cell_type": "code",
   "execution_count": 37,
   "metadata": {},
   "outputs": [
    {
     "name": "stdout",
     "output_type": "stream",
     "text": [
      "Beta0 = -2.180455 Beta1 = 1.051243 Beta2 = -0.006529\n"
     ]
    }
   ],
   "source": [
    "# On calcule l'inverse de XtX\n",
    "matGramInv = np.linalg.inv(matGram)\n",
    "\n",
    "# On calcule les coefficients dans le vecteur Beta\n",
    "Beta = matGramInv.dot(matX.T).dot(Y_log)\n",
    "print(\"Beta0 = {:f} Beta1 = {:f} Beta2 = {:f}\".format(*Beta))"
   ]
  },
  {
   "cell_type": "code",
   "execution_count": 38,
   "metadata": {},
   "outputs": [
    {
     "name": "stdout",
     "output_type": "stream",
     "text": [
      "Estimateur de la variance = 0.008192\n"
     ]
    }
   ],
   "source": [
    "# Calcul de l'estimateur de la variance du bruit\n",
    "Sigma2 = (1 / (N - 3)) * np.sum((Y_log - matX.dot(Beta))**2)\n",
    "print(\"Estimateur de la variance = {:f}\".format(Sigma2))"
   ]
  },
  {
   "cell_type": "code",
   "execution_count": 39,
   "metadata": {},
   "outputs": [
    {
     "name": "stdout",
     "output_type": "stream",
     "text": [
      "écarts-types : Beta0 = 0.662399 Beta1 = 0.102061 Beta2 = 0.015344\n"
     ]
    }
   ],
   "source": [
    "# Ecartypes des Beta\n",
    "EcartTypeBeta = np.sqrt(Sigma2 * np.diag(matGramInv))\n",
    "print(\"écarts-types : Beta0 = {:f} Beta1 = {:f} Beta2 = {:f}\".format(*EcartTypeBeta))\n"
   ]
  },
  {
   "cell_type": "code",
   "execution_count": 40,
   "metadata": {},
   "outputs": [
    {
     "name": "stdout",
     "output_type": "stream",
     "text": [
      "Coefficient R2 = 0.963311\n"
     ]
    }
   ],
   "source": [
    "# Calcul de R2\n",
    "R2 = np.sum((matX.dot(Beta) - Y_mean)**2) / np.sum((Y_log - Y_mean)**2)\n",
    "print(\"Coefficient R2 = {:f}\".format(R2))"
   ]
  },
  {
   "cell_type": "code",
   "execution_count": 41,
   "metadata": {},
   "outputs": [
    {
     "name": "stdout",
     "output_type": "stream",
     "text": [
      "statistiques de test : \n",
      "T0 = -3.291753 T1 = 10.300103 T2 = -0.425495\n",
      "Pvaleurs : \n",
      "P0 = 0.006438 P1 = 0.000000 P2 = 0.678007\n"
     ]
    }
   ],
   "source": [
    "# Test de Student pour la significativité des Beta\n",
    "# T0 = Beta[0] / EcartTypeBeta[0]\n",
    "# T1 = Beta[1] / EcartTypeBeta[1]\n",
    "# T2 = Beta[2] / EcartTypeBeta[2]\n",
    "# print(\"statistiques de test : \\nT1 = {:f} T1 = {:f} T2 = {:f}\".format(T0,T1,T2))\n",
    "T = Beta / EcartTypeBeta\n",
    "print(\"statistiques de test : \\nT0 = {:f} T1 = {:f} T2 = {:f}\".format(*T))\n",
    "\n",
    "# Vecteur des p-valeurs\n",
    "Pvaleurs = (1 - stats.t.cdf(np.abs(T), N - 3)) * 2\n",
    "print(\"Pvaleurs : \\nP0 = {:f} P1 = {:f} P2 = {:f}\".format(*Pvaleurs))\n",
    "\n"
   ]
  },
  {
   "cell_type": "markdown",
   "metadata": {},
   "source": [
    "### Commentaires des résultats\n",
    "- Les valeurs des deux premiers coefficients Beta0 et Beta1 sont proches de ceux trouver précédemment avec une seule variable explicatives, ce qui est cohérent. En revanche la valeur du coefficient Beta2 correspondant à la variable 'interest' est faible et montre qu'elle a pu d'influence sur la prédiction, ce qui sera confirmé par le calcul des P-valeurs.\n",
    "- La variance du bruit est toujours très faible.\n",
    "- Les écarts-types de Beta0 et Beta1 sont très faibles (env 0,7 et env 0,1 pour Beta0 et Beta1) et sont très légèrement supérieurs à ceux calculer pour une seule variable. L'écart-type de Beta2 est très faible. La dispersion des valeurs autour de la moyenne est faible.\n",
    "- Le coefficient R2 est très peu modifié par l'ajout de la variable 'interest' de 0,9627 à 0,9633. Dans les deux cas, la regression s'est bien passée par rapport au prédicteur constant.\n",
    "- Pour Beta0 et Beta1, les résultats montrent que les coefficients sont statistiquements significatifs car leur p-valeur pour l'hypothèse de nullité est très faible, en particulier pour Beta1. Ce dernier résultat est d'ailleurs cohérent avec celui obtenu pour Beta1 dans le cas d'une seule variable d'explication.\n",
    "- Pour Beta2 en revanche, la p-valeur est élevée (67%), ce qui montre que la variable \"interest\" est peu significative pour la regression des moindres carrés, en d'autres termes, elle apporte peu d'information pour expliquer la valeur \"invest\"."
   ]
  },
  {
   "cell_type": "markdown",
   "metadata": {},
   "source": [
    "11) Pour les valeurs de GNP 1000 et interest 10, i.e., x =(1, 1000, 10)T , prédire log(investment) et donner les intervalles de confiance CIpxq et PIpxq au niveau 99.9%."
   ]
  },
  {
   "cell_type": "code",
   "execution_count": 42,
   "metadata": {},
   "outputs": [
    {
     "name": "stdout",
     "output_type": "stream",
     "text": [
      "Prédiction de log(invest) pour gnp=1000 et interest=10 : 5.015984\n"
     ]
    }
   ],
   "source": [
    "X1_1000_10 = np.array([1,np.log(1000),10])\n",
    "InvestPred = X1_1000_10.dot(Beta)\n",
    "print(\"Prédiction de log(invest) pour gnp=1000 et interest=10 : {:f}\".format(InvestPred))"
   ]
  },
  {
   "cell_type": "code",
   "execution_count": 43,
   "metadata": {},
   "outputs": [
    {
     "name": "stdout",
     "output_type": "stream",
     "text": [
      "Quantile student à 99,9% = 4.317791\n"
     ]
    }
   ],
   "source": [
    "alpha = 0.001\n",
    "QuantStudent999 = stats.t.ppf(1 - alpha/2,N-3)\n",
    "print(\"Quantile student à 99,9% = {:f}\".format(QuantStudent999))"
   ]
  },
  {
   "cell_type": "code",
   "execution_count": 44,
   "metadata": {},
   "outputs": [
    {
     "name": "stdout",
     "output_type": "stream",
     "text": [
      "IC invest prédit : borne inf = 4.640184, borne sup =5.391783\n"
     ]
    }
   ],
   "source": [
    "varpred = np.sqrt(Sigma2) * np.sqrt(X1_1000_10.dot(matGramInv).dot(X1_1000_10.T) )\n",
    "CIinf = InvestPred - varpred * QuantStudent999\n",
    "CIsup = InvestPred + varpred * QuantStudent999\n",
    "print(\"IC invest prédit : borne inf = {:f}, borne sup ={:f}\".format(CIinf, CIsup))"
   ]
  },
  {
   "cell_type": "code",
   "execution_count": 45,
   "metadata": {},
   "outputs": [
    {
     "name": "stdout",
     "output_type": "stream",
     "text": [
      "PI invest prédit : borne inf = 4.473803, borne sup =5.558164\n"
     ]
    }
   ],
   "source": [
    "varpred = np.sqrt(Sigma2) * np.sqrt(1+ X1_1000_10.dot(matGramInv).dot(X1_1000_10.T) )\n",
    "CIinf = InvestPred - varpred * QuantStudent999\n",
    "CIsup = InvestPred + varpred * QuantStudent999\n",
    "print(\"PI invest prédit : borne inf = {:f}, borne sup ={:f}\".format(CIinf, CIsup))"
   ]
  },
  {
   "cell_type": "markdown",
   "metadata": {},
   "source": [
    "12) Sur un même graph à 3 dimensions avec les axes suivants : log(GNP), Interest, and log(Investment), tracer les données, le “plan” de régression et les surfaces correspondantes aux intervalles de confiance à 99.9% (ces surfaces seront tracées sur le domaine de définition des données)."
   ]
  },
  {
   "cell_type": "code",
   "execution_count": 46,
   "metadata": {},
   "outputs": [
    {
     "data": {
      "text/html": [
       "<div>\n",
       "<style scoped>\n",
       "    .dataframe tbody tr th:only-of-type {\n",
       "        vertical-align: middle;\n",
       "    }\n",
       "\n",
       "    .dataframe tbody tr th {\n",
       "        vertical-align: top;\n",
       "    }\n",
       "\n",
       "    .dataframe thead th {\n",
       "        text-align: right;\n",
       "    }\n",
       "</style>\n",
       "<table border=\"1\" class=\"dataframe\">\n",
       "  <thead>\n",
       "    <tr style=\"text-align: right;\">\n",
       "      <th></th>\n",
       "      <th>ones</th>\n",
       "      <th>year</th>\n",
       "      <th>gnp</th>\n",
       "      <th>invest</th>\n",
       "      <th>gnp_log</th>\n",
       "      <th>invest_log</th>\n",
       "      <th>cpi</th>\n",
       "      <th>interest</th>\n",
       "      <th>prédiction</th>\n",
       "      <th>CI_Inf</th>\n",
       "      <th>CI_Sup</th>\n",
       "      <th>PI_Inf</th>\n",
       "      <th>PI_Sup</th>\n",
       "      <th>Prediction2</th>\n",
       "    </tr>\n",
       "  </thead>\n",
       "  <tbody>\n",
       "    <tr>\n",
       "      <th>0</th>\n",
       "      <td>1.0</td>\n",
       "      <td>1968</td>\n",
       "      <td>873.4</td>\n",
       "      <td>133.3</td>\n",
       "      <td>6.772394</td>\n",
       "      <td>4.892602</td>\n",
       "      <td>82.54</td>\n",
       "      <td>5.16</td>\n",
       "      <td>4.912294</td>\n",
       "      <td>4.840199</td>\n",
       "      <td>4.984389</td>\n",
       "      <td>4.741203</td>\n",
       "      <td>5.083385</td>\n",
       "      <td>4.905286</td>\n",
       "    </tr>\n",
       "    <tr>\n",
       "      <th>1</th>\n",
       "      <td>1.0</td>\n",
       "      <td>1969</td>\n",
       "      <td>944.0</td>\n",
       "      <td>149.3</td>\n",
       "      <td>6.850126</td>\n",
       "      <td>5.005958</td>\n",
       "      <td>86.79</td>\n",
       "      <td>5.87</td>\n",
       "      <td>4.991214</td>\n",
       "      <td>4.925322</td>\n",
       "      <td>5.057107</td>\n",
       "      <td>4.822643</td>\n",
       "      <td>5.159786</td>\n",
       "      <td>4.982366</td>\n",
       "    </tr>\n",
       "    <tr>\n",
       "      <th>2</th>\n",
       "      <td>1.0</td>\n",
       "      <td>1970</td>\n",
       "      <td>992.7</td>\n",
       "      <td>144.2</td>\n",
       "      <td>6.900429</td>\n",
       "      <td>4.971201</td>\n",
       "      <td>91.45</td>\n",
       "      <td>5.95</td>\n",
       "      <td>5.042285</td>\n",
       "      <td>4.980237</td>\n",
       "      <td>5.104334</td>\n",
       "      <td>4.875179</td>\n",
       "      <td>5.209392</td>\n",
       "      <td>5.034723</td>\n",
       "    </tr>\n",
       "    <tr>\n",
       "      <th>3</th>\n",
       "      <td>1.0</td>\n",
       "      <td>1971</td>\n",
       "      <td>1077.6</td>\n",
       "      <td>166.4</td>\n",
       "      <td>6.982492</td>\n",
       "      <td>5.114395</td>\n",
       "      <td>96.01</td>\n",
       "      <td>4.88</td>\n",
       "      <td>5.125603</td>\n",
       "      <td>5.069459</td>\n",
       "      <td>5.181746</td>\n",
       "      <td>4.960598</td>\n",
       "      <td>5.290607</td>\n",
       "      <td>5.127978</td>\n",
       "    </tr>\n",
       "    <tr>\n",
       "      <th>4</th>\n",
       "      <td>1.0</td>\n",
       "      <td>1972</td>\n",
       "      <td>1185.9</td>\n",
       "      <td>195.0</td>\n",
       "      <td>7.078257</td>\n",
       "      <td>5.273000</td>\n",
       "      <td>100.00</td>\n",
       "      <td>4.50</td>\n",
       "      <td>5.222832</td>\n",
       "      <td>5.172818</td>\n",
       "      <td>5.272845</td>\n",
       "      <td>5.059810</td>\n",
       "      <td>5.385853</td>\n",
       "      <td>5.231132</td>\n",
       "    </tr>\n",
       "    <tr>\n",
       "      <th>5</th>\n",
       "      <td>1.0</td>\n",
       "      <td>1973</td>\n",
       "      <td>1326.4</td>\n",
       "      <td>229.8</td>\n",
       "      <td>7.190224</td>\n",
       "      <td>5.437209</td>\n",
       "      <td>105.75</td>\n",
       "      <td>6.44</td>\n",
       "      <td>5.336509</td>\n",
       "      <td>5.292188</td>\n",
       "      <td>5.380831</td>\n",
       "      <td>5.175143</td>\n",
       "      <td>5.497875</td>\n",
       "      <td>5.336169</td>\n",
       "    </tr>\n",
       "    <tr>\n",
       "      <th>6</th>\n",
       "      <td>1.0</td>\n",
       "      <td>1974</td>\n",
       "      <td>1434.2</td>\n",
       "      <td>228.7</td>\n",
       "      <td>7.268362</td>\n",
       "      <td>5.432411</td>\n",
       "      <td>115.08</td>\n",
       "      <td>7.83</td>\n",
       "      <td>5.415842</td>\n",
       "      <td>5.374218</td>\n",
       "      <td>5.457466</td>\n",
       "      <td>5.255196</td>\n",
       "      <td>5.576488</td>\n",
       "      <td>5.409237</td>\n",
       "    </tr>\n",
       "    <tr>\n",
       "      <th>7</th>\n",
       "      <td>1.0</td>\n",
       "      <td>1975</td>\n",
       "      <td>1549.2</td>\n",
       "      <td>206.1</td>\n",
       "      <td>7.345494</td>\n",
       "      <td>5.328361</td>\n",
       "      <td>125.79</td>\n",
       "      <td>6.25</td>\n",
       "      <td>5.494152</td>\n",
       "      <td>5.453917</td>\n",
       "      <td>5.534387</td>\n",
       "      <td>5.333860</td>\n",
       "      <td>5.654444</td>\n",
       "      <td>5.500637</td>\n",
       "    </tr>\n",
       "    <tr>\n",
       "      <th>8</th>\n",
       "      <td>1.0</td>\n",
       "      <td>1976</td>\n",
       "      <td>1718.0</td>\n",
       "      <td>257.9</td>\n",
       "      <td>7.448916</td>\n",
       "      <td>5.552572</td>\n",
       "      <td>132.34</td>\n",
       "      <td>5.50</td>\n",
       "      <td>5.599155</td>\n",
       "      <td>5.558582</td>\n",
       "      <td>5.639727</td>\n",
       "      <td>5.438778</td>\n",
       "      <td>5.759531</td>\n",
       "      <td>5.614255</td>\n",
       "    </tr>\n",
       "    <tr>\n",
       "      <th>9</th>\n",
       "      <td>1.0</td>\n",
       "      <td>1977</td>\n",
       "      <td>1918.3</td>\n",
       "      <td>324.1</td>\n",
       "      <td>7.559195</td>\n",
       "      <td>5.781052</td>\n",
       "      <td>140.05</td>\n",
       "      <td>5.46</td>\n",
       "      <td>5.711118</td>\n",
       "      <td>5.667508</td>\n",
       "      <td>5.754729</td>\n",
       "      <td>5.549946</td>\n",
       "      <td>5.872290</td>\n",
       "      <td>5.730446</td>\n",
       "    </tr>\n",
       "    <tr>\n",
       "      <th>10</th>\n",
       "      <td>1.0</td>\n",
       "      <td>1978</td>\n",
       "      <td>2163.9</td>\n",
       "      <td>386.6</td>\n",
       "      <td>7.679667</td>\n",
       "      <td>5.957391</td>\n",
       "      <td>150.42</td>\n",
       "      <td>7.46</td>\n",
       "      <td>5.833432</td>\n",
       "      <td>5.783948</td>\n",
       "      <td>5.882916</td>\n",
       "      <td>5.670573</td>\n",
       "      <td>5.996292</td>\n",
       "      <td>5.844034</td>\n",
       "    </tr>\n",
       "    <tr>\n",
       "      <th>11</th>\n",
       "      <td>1.0</td>\n",
       "      <td>1979</td>\n",
       "      <td>2417.8</td>\n",
       "      <td>423.0</td>\n",
       "      <td>7.790613</td>\n",
       "      <td>6.047372</td>\n",
       "      <td>163.42</td>\n",
       "      <td>10.28</td>\n",
       "      <td>5.946073</td>\n",
       "      <td>5.889512</td>\n",
       "      <td>6.002635</td>\n",
       "      <td>5.780926</td>\n",
       "      <td>6.111221</td>\n",
       "      <td>5.942254</td>\n",
       "    </tr>\n",
       "    <tr>\n",
       "      <th>12</th>\n",
       "      <td>1.0</td>\n",
       "      <td>1980</td>\n",
       "      <td>2633.1</td>\n",
       "      <td>402.3</td>\n",
       "      <td>7.875917</td>\n",
       "      <td>5.997198</td>\n",
       "      <td>178.64</td>\n",
       "      <td>11.77</td>\n",
       "      <td>6.032681</td>\n",
       "      <td>5.969933</td>\n",
       "      <td>6.095429</td>\n",
       "      <td>5.865313</td>\n",
       "      <td>6.200048</td>\n",
       "      <td>6.022201</td>\n",
       "    </tr>\n",
       "    <tr>\n",
       "      <th>13</th>\n",
       "      <td>1.0</td>\n",
       "      <td>1981</td>\n",
       "      <td>2937.7</td>\n",
       "      <td>471.5</td>\n",
       "      <td>7.985382</td>\n",
       "      <td>6.155919</td>\n",
       "      <td>195.51</td>\n",
       "      <td>13.42</td>\n",
       "      <td>6.143819</td>\n",
       "      <td>6.072478</td>\n",
       "      <td>6.215160</td>\n",
       "      <td>5.973044</td>\n",
       "      <td>6.314594</td>\n",
       "      <td>6.126502</td>\n",
       "    </tr>\n",
       "    <tr>\n",
       "      <th>14</th>\n",
       "      <td>1.0</td>\n",
       "      <td>1982</td>\n",
       "      <td>3057.5</td>\n",
       "      <td>421.9</td>\n",
       "      <td>8.025353</td>\n",
       "      <td>6.044768</td>\n",
       "      <td>207.23</td>\n",
       "      <td>11.02</td>\n",
       "      <td>6.184400</td>\n",
       "      <td>6.109783</td>\n",
       "      <td>6.259018</td>\n",
       "      <td>6.012231</td>\n",
       "      <td>6.356570</td>\n",
       "      <td>6.184191</td>\n",
       "    </tr>\n",
       "  </tbody>\n",
       "</table>\n",
       "</div>"
      ],
      "text/plain": [
       "    ones  year     gnp  invest   gnp_log  invest_log     cpi  interest  \\\n",
       "0    1.0  1968   873.4   133.3  6.772394    4.892602   82.54      5.16   \n",
       "1    1.0  1969   944.0   149.3  6.850126    5.005958   86.79      5.87   \n",
       "2    1.0  1970   992.7   144.2  6.900429    4.971201   91.45      5.95   \n",
       "3    1.0  1971  1077.6   166.4  6.982492    5.114395   96.01      4.88   \n",
       "4    1.0  1972  1185.9   195.0  7.078257    5.273000  100.00      4.50   \n",
       "5    1.0  1973  1326.4   229.8  7.190224    5.437209  105.75      6.44   \n",
       "6    1.0  1974  1434.2   228.7  7.268362    5.432411  115.08      7.83   \n",
       "7    1.0  1975  1549.2   206.1  7.345494    5.328361  125.79      6.25   \n",
       "8    1.0  1976  1718.0   257.9  7.448916    5.552572  132.34      5.50   \n",
       "9    1.0  1977  1918.3   324.1  7.559195    5.781052  140.05      5.46   \n",
       "10   1.0  1978  2163.9   386.6  7.679667    5.957391  150.42      7.46   \n",
       "11   1.0  1979  2417.8   423.0  7.790613    6.047372  163.42     10.28   \n",
       "12   1.0  1980  2633.1   402.3  7.875917    5.997198  178.64     11.77   \n",
       "13   1.0  1981  2937.7   471.5  7.985382    6.155919  195.51     13.42   \n",
       "14   1.0  1982  3057.5   421.9  8.025353    6.044768  207.23     11.02   \n",
       "\n",
       "    prédiction    CI_Inf    CI_Sup    PI_Inf    PI_Sup  Prediction2  \n",
       "0     4.912294  4.840199  4.984389  4.741203  5.083385     4.905286  \n",
       "1     4.991214  4.925322  5.057107  4.822643  5.159786     4.982366  \n",
       "2     5.042285  4.980237  5.104334  4.875179  5.209392     5.034723  \n",
       "3     5.125603  5.069459  5.181746  4.960598  5.290607     5.127978  \n",
       "4     5.222832  5.172818  5.272845  5.059810  5.385853     5.231132  \n",
       "5     5.336509  5.292188  5.380831  5.175143  5.497875     5.336169  \n",
       "6     5.415842  5.374218  5.457466  5.255196  5.576488     5.409237  \n",
       "7     5.494152  5.453917  5.534387  5.333860  5.654444     5.500637  \n",
       "8     5.599155  5.558582  5.639727  5.438778  5.759531     5.614255  \n",
       "9     5.711118  5.667508  5.754729  5.549946  5.872290     5.730446  \n",
       "10    5.833432  5.783948  5.882916  5.670573  5.996292     5.844034  \n",
       "11    5.946073  5.889512  6.002635  5.780926  6.111221     5.942254  \n",
       "12    6.032681  5.969933  6.095429  5.865313  6.200048     6.022201  \n",
       "13    6.143819  6.072478  6.215160  5.973044  6.314594     6.126502  \n",
       "14    6.184400  6.109783  6.259018  6.012231  6.356570     6.184191  "
      ]
     },
     "execution_count": 46,
     "metadata": {},
     "output_type": "execute_result"
    }
   ],
   "source": [
    "df['Prediction2'] = matX.dot(Beta)\n",
    "df"
   ]
  },
  {
   "cell_type": "code",
   "execution_count": 50,
   "metadata": {},
   "outputs": [],
   "source": [
    "def calculate_bornes_CI3D(x):\n",
    "    InvestPred = x.dot(Beta)\n",
    "    varpred = np.sqrt(Sigma2) * np.sqrt(x.dot(matGramInv).dot(x.T) )\n",
    "    return InvestPred - varpred * QuantStudent999, InvestPred + varpred * QuantStudent999"
   ]
  },
  {
   "cell_type": "code",
   "execution_count": 51,
   "metadata": {},
   "outputs": [],
   "source": [
    "def calculate_bornes_PI3D(x):\n",
    "    InvestPred = x.dot(Beta)\n",
    "    varpred = np.sqrt(Sigma2) * np.sqrt(1 + x.dot(matGramInv).dot(x.T) )\n",
    "    return InvestPred - varpred * QuantStudent999, InvestPred + varpred * QuantStudent999"
   ]
  },
  {
   "cell_type": "code",
   "execution_count": 52,
   "metadata": {},
   "outputs": [
    {
     "data": {
      "text/html": [
       "<div>\n",
       "<style scoped>\n",
       "    .dataframe tbody tr th:only-of-type {\n",
       "        vertical-align: middle;\n",
       "    }\n",
       "\n",
       "    .dataframe tbody tr th {\n",
       "        vertical-align: top;\n",
       "    }\n",
       "\n",
       "    .dataframe thead th {\n",
       "        text-align: right;\n",
       "    }\n",
       "</style>\n",
       "<table border=\"1\" class=\"dataframe\">\n",
       "  <thead>\n",
       "    <tr style=\"text-align: right;\">\n",
       "      <th></th>\n",
       "      <th>ones</th>\n",
       "      <th>year</th>\n",
       "      <th>gnp</th>\n",
       "      <th>invest</th>\n",
       "      <th>gnp_log</th>\n",
       "      <th>invest_log</th>\n",
       "      <th>cpi</th>\n",
       "      <th>interest</th>\n",
       "      <th>prédiction</th>\n",
       "      <th>CI_Inf</th>\n",
       "      <th>CI_Sup</th>\n",
       "      <th>PI_Inf</th>\n",
       "      <th>PI_Sup</th>\n",
       "      <th>Prediction2</th>\n",
       "      <th>infCI3D</th>\n",
       "      <th>supCI3D</th>\n",
       "      <th>infPI3D</th>\n",
       "      <th>supPI3D</th>\n",
       "    </tr>\n",
       "  </thead>\n",
       "  <tbody>\n",
       "    <tr>\n",
       "      <th>0</th>\n",
       "      <td>1.0</td>\n",
       "      <td>1968</td>\n",
       "      <td>873.4</td>\n",
       "      <td>133.3</td>\n",
       "      <td>6.772394</td>\n",
       "      <td>4.892602</td>\n",
       "      <td>82.54</td>\n",
       "      <td>5.16</td>\n",
       "      <td>4.912294</td>\n",
       "      <td>4.840199</td>\n",
       "      <td>4.984389</td>\n",
       "      <td>4.741203</td>\n",
       "      <td>5.083385</td>\n",
       "      <td>4.905286</td>\n",
       "      <td>4.710265</td>\n",
       "      <td>5.100306</td>\n",
       "      <td>4.468516</td>\n",
       "      <td>5.342055</td>\n",
       "    </tr>\n",
       "    <tr>\n",
       "      <th>1</th>\n",
       "      <td>1.0</td>\n",
       "      <td>1969</td>\n",
       "      <td>944.0</td>\n",
       "      <td>149.3</td>\n",
       "      <td>6.850126</td>\n",
       "      <td>5.005958</td>\n",
       "      <td>86.79</td>\n",
       "      <td>5.87</td>\n",
       "      <td>4.991214</td>\n",
       "      <td>4.925322</td>\n",
       "      <td>5.057107</td>\n",
       "      <td>4.822643</td>\n",
       "      <td>5.159786</td>\n",
       "      <td>4.982366</td>\n",
       "      <td>4.793664</td>\n",
       "      <td>5.171067</td>\n",
       "      <td>4.548381</td>\n",
       "      <td>5.416350</td>\n",
       "    </tr>\n",
       "    <tr>\n",
       "      <th>2</th>\n",
       "      <td>1.0</td>\n",
       "      <td>1970</td>\n",
       "      <td>992.7</td>\n",
       "      <td>144.2</td>\n",
       "      <td>6.900429</td>\n",
       "      <td>4.971201</td>\n",
       "      <td>91.45</td>\n",
       "      <td>5.95</td>\n",
       "      <td>5.042285</td>\n",
       "      <td>4.980237</td>\n",
       "      <td>5.104334</td>\n",
       "      <td>4.875179</td>\n",
       "      <td>5.209392</td>\n",
       "      <td>5.034723</td>\n",
       "      <td>4.860616</td>\n",
       "      <td>5.208831</td>\n",
       "      <td>4.606883</td>\n",
       "      <td>5.462564</td>\n",
       "    </tr>\n",
       "    <tr>\n",
       "      <th>3</th>\n",
       "      <td>1.0</td>\n",
       "      <td>1971</td>\n",
       "      <td>1077.6</td>\n",
       "      <td>166.4</td>\n",
       "      <td>6.982492</td>\n",
       "      <td>5.114395</td>\n",
       "      <td>96.01</td>\n",
       "      <td>4.88</td>\n",
       "      <td>5.125603</td>\n",
       "      <td>5.069459</td>\n",
       "      <td>5.181746</td>\n",
       "      <td>4.960598</td>\n",
       "      <td>5.290607</td>\n",
       "      <td>5.127978</td>\n",
       "      <td>4.984527</td>\n",
       "      <td>5.271428</td>\n",
       "      <td>4.711670</td>\n",
       "      <td>5.544286</td>\n",
       "    </tr>\n",
       "    <tr>\n",
       "      <th>4</th>\n",
       "      <td>1.0</td>\n",
       "      <td>1972</td>\n",
       "      <td>1185.9</td>\n",
       "      <td>195.0</td>\n",
       "      <td>7.078257</td>\n",
       "      <td>5.273000</td>\n",
       "      <td>100.00</td>\n",
       "      <td>4.50</td>\n",
       "      <td>5.222832</td>\n",
       "      <td>5.172818</td>\n",
       "      <td>5.272845</td>\n",
       "      <td>5.059810</td>\n",
       "      <td>5.385853</td>\n",
       "      <td>5.231132</td>\n",
       "      <td>5.079595</td>\n",
       "      <td>5.382668</td>\n",
       "      <td>4.811969</td>\n",
       "      <td>5.650294</td>\n",
       "    </tr>\n",
       "    <tr>\n",
       "      <th>5</th>\n",
       "      <td>1.0</td>\n",
       "      <td>1973</td>\n",
       "      <td>1326.4</td>\n",
       "      <td>229.8</td>\n",
       "      <td>7.190224</td>\n",
       "      <td>5.437209</td>\n",
       "      <td>105.75</td>\n",
       "      <td>6.44</td>\n",
       "      <td>5.336509</td>\n",
       "      <td>5.292188</td>\n",
       "      <td>5.380831</td>\n",
       "      <td>5.175143</td>\n",
       "      <td>5.497875</td>\n",
       "      <td>5.336169</td>\n",
       "      <td>5.224480</td>\n",
       "      <td>5.447859</td>\n",
       "      <td>4.929711</td>\n",
       "      <td>5.742628</td>\n",
       "    </tr>\n",
       "    <tr>\n",
       "      <th>6</th>\n",
       "      <td>1.0</td>\n",
       "      <td>1974</td>\n",
       "      <td>1434.2</td>\n",
       "      <td>228.7</td>\n",
       "      <td>7.268362</td>\n",
       "      <td>5.432411</td>\n",
       "      <td>115.08</td>\n",
       "      <td>7.83</td>\n",
       "      <td>5.415842</td>\n",
       "      <td>5.374218</td>\n",
       "      <td>5.457466</td>\n",
       "      <td>5.255196</td>\n",
       "      <td>5.576488</td>\n",
       "      <td>5.409237</td>\n",
       "      <td>5.284803</td>\n",
       "      <td>5.533671</td>\n",
       "      <td>4.999093</td>\n",
       "      <td>5.819381</td>\n",
       "    </tr>\n",
       "    <tr>\n",
       "      <th>7</th>\n",
       "      <td>1.0</td>\n",
       "      <td>1975</td>\n",
       "      <td>1549.2</td>\n",
       "      <td>206.1</td>\n",
       "      <td>7.345494</td>\n",
       "      <td>5.328361</td>\n",
       "      <td>125.79</td>\n",
       "      <td>6.25</td>\n",
       "      <td>5.494152</td>\n",
       "      <td>5.453917</td>\n",
       "      <td>5.534387</td>\n",
       "      <td>5.333860</td>\n",
       "      <td>5.654444</td>\n",
       "      <td>5.500637</td>\n",
       "      <td>5.379804</td>\n",
       "      <td>5.621470</td>\n",
       "      <td>5.091571</td>\n",
       "      <td>5.909702</td>\n",
       "    </tr>\n",
       "    <tr>\n",
       "      <th>8</th>\n",
       "      <td>1.0</td>\n",
       "      <td>1976</td>\n",
       "      <td>1718.0</td>\n",
       "      <td>257.9</td>\n",
       "      <td>7.448916</td>\n",
       "      <td>5.552572</td>\n",
       "      <td>132.34</td>\n",
       "      <td>5.50</td>\n",
       "      <td>5.599155</td>\n",
       "      <td>5.558582</td>\n",
       "      <td>5.639727</td>\n",
       "      <td>5.438778</td>\n",
       "      <td>5.759531</td>\n",
       "      <td>5.614255</td>\n",
       "      <td>5.430070</td>\n",
       "      <td>5.798440</td>\n",
       "      <td>5.182216</td>\n",
       "      <td>6.046295</td>\n",
       "    </tr>\n",
       "    <tr>\n",
       "      <th>9</th>\n",
       "      <td>1.0</td>\n",
       "      <td>1977</td>\n",
       "      <td>1918.3</td>\n",
       "      <td>324.1</td>\n",
       "      <td>7.559195</td>\n",
       "      <td>5.781052</td>\n",
       "      <td>140.05</td>\n",
       "      <td>5.46</td>\n",
       "      <td>5.711118</td>\n",
       "      <td>5.667508</td>\n",
       "      <td>5.754729</td>\n",
       "      <td>5.549946</td>\n",
       "      <td>5.872290</td>\n",
       "      <td>5.730446</td>\n",
       "      <td>5.505653</td>\n",
       "      <td>5.955238</td>\n",
       "      <td>5.279595</td>\n",
       "      <td>6.181296</td>\n",
       "    </tr>\n",
       "    <tr>\n",
       "      <th>10</th>\n",
       "      <td>1.0</td>\n",
       "      <td>1978</td>\n",
       "      <td>2163.9</td>\n",
       "      <td>386.6</td>\n",
       "      <td>7.679667</td>\n",
       "      <td>5.957391</td>\n",
       "      <td>150.42</td>\n",
       "      <td>7.46</td>\n",
       "      <td>5.833432</td>\n",
       "      <td>5.783948</td>\n",
       "      <td>5.882916</td>\n",
       "      <td>5.670573</td>\n",
       "      <td>5.996292</td>\n",
       "      <td>5.844034</td>\n",
       "      <td>5.679385</td>\n",
       "      <td>6.008683</td>\n",
       "      <td>5.419955</td>\n",
       "      <td>6.268114</td>\n",
       "    </tr>\n",
       "    <tr>\n",
       "      <th>11</th>\n",
       "      <td>1.0</td>\n",
       "      <td>1979</td>\n",
       "      <td>2417.8</td>\n",
       "      <td>423.0</td>\n",
       "      <td>7.790613</td>\n",
       "      <td>6.047372</td>\n",
       "      <td>163.42</td>\n",
       "      <td>10.28</td>\n",
       "      <td>5.946073</td>\n",
       "      <td>5.889512</td>\n",
       "      <td>6.002635</td>\n",
       "      <td>5.780926</td>\n",
       "      <td>6.111221</td>\n",
       "      <td>5.942254</td>\n",
       "      <td>5.794610</td>\n",
       "      <td>6.089898</td>\n",
       "      <td>5.524482</td>\n",
       "      <td>6.360025</td>\n",
       "    </tr>\n",
       "    <tr>\n",
       "      <th>12</th>\n",
       "      <td>1.0</td>\n",
       "      <td>1980</td>\n",
       "      <td>2633.1</td>\n",
       "      <td>402.3</td>\n",
       "      <td>7.875917</td>\n",
       "      <td>5.997198</td>\n",
       "      <td>178.64</td>\n",
       "      <td>11.77</td>\n",
       "      <td>6.032681</td>\n",
       "      <td>5.969933</td>\n",
       "      <td>6.095429</td>\n",
       "      <td>5.865313</td>\n",
       "      <td>6.200048</td>\n",
       "      <td>6.022201</td>\n",
       "      <td>5.831703</td>\n",
       "      <td>6.212698</td>\n",
       "      <td>5.587433</td>\n",
       "      <td>6.456969</td>\n",
       "    </tr>\n",
       "    <tr>\n",
       "      <th>13</th>\n",
       "      <td>1.0</td>\n",
       "      <td>1981</td>\n",
       "      <td>2937.7</td>\n",
       "      <td>471.5</td>\n",
       "      <td>7.985382</td>\n",
       "      <td>6.155919</td>\n",
       "      <td>195.51</td>\n",
       "      <td>13.42</td>\n",
       "      <td>6.143819</td>\n",
       "      <td>6.072478</td>\n",
       "      <td>6.215160</td>\n",
       "      <td>5.973044</td>\n",
       "      <td>6.314594</td>\n",
       "      <td>6.126502</td>\n",
       "      <td>5.875172</td>\n",
       "      <td>6.377833</td>\n",
       "      <td>5.661851</td>\n",
       "      <td>6.591154</td>\n",
       "    </tr>\n",
       "    <tr>\n",
       "      <th>14</th>\n",
       "      <td>1.0</td>\n",
       "      <td>1982</td>\n",
       "      <td>3057.5</td>\n",
       "      <td>421.9</td>\n",
       "      <td>8.025353</td>\n",
       "      <td>6.044768</td>\n",
       "      <td>207.23</td>\n",
       "      <td>11.02</td>\n",
       "      <td>6.184400</td>\n",
       "      <td>6.109783</td>\n",
       "      <td>6.259018</td>\n",
       "      <td>6.012231</td>\n",
       "      <td>6.356570</td>\n",
       "      <td>6.184191</td>\n",
       "      <td>5.996234</td>\n",
       "      <td>6.372147</td>\n",
       "      <td>5.750530</td>\n",
       "      <td>6.617851</td>\n",
       "    </tr>\n",
       "  </tbody>\n",
       "</table>\n",
       "</div>"
      ],
      "text/plain": [
       "    ones  year     gnp  invest   gnp_log  invest_log     cpi  interest  \\\n",
       "0    1.0  1968   873.4   133.3  6.772394    4.892602   82.54      5.16   \n",
       "1    1.0  1969   944.0   149.3  6.850126    5.005958   86.79      5.87   \n",
       "2    1.0  1970   992.7   144.2  6.900429    4.971201   91.45      5.95   \n",
       "3    1.0  1971  1077.6   166.4  6.982492    5.114395   96.01      4.88   \n",
       "4    1.0  1972  1185.9   195.0  7.078257    5.273000  100.00      4.50   \n",
       "5    1.0  1973  1326.4   229.8  7.190224    5.437209  105.75      6.44   \n",
       "6    1.0  1974  1434.2   228.7  7.268362    5.432411  115.08      7.83   \n",
       "7    1.0  1975  1549.2   206.1  7.345494    5.328361  125.79      6.25   \n",
       "8    1.0  1976  1718.0   257.9  7.448916    5.552572  132.34      5.50   \n",
       "9    1.0  1977  1918.3   324.1  7.559195    5.781052  140.05      5.46   \n",
       "10   1.0  1978  2163.9   386.6  7.679667    5.957391  150.42      7.46   \n",
       "11   1.0  1979  2417.8   423.0  7.790613    6.047372  163.42     10.28   \n",
       "12   1.0  1980  2633.1   402.3  7.875917    5.997198  178.64     11.77   \n",
       "13   1.0  1981  2937.7   471.5  7.985382    6.155919  195.51     13.42   \n",
       "14   1.0  1982  3057.5   421.9  8.025353    6.044768  207.23     11.02   \n",
       "\n",
       "    prédiction    CI_Inf    CI_Sup    PI_Inf    PI_Sup  Prediction2   infCI3D  \\\n",
       "0     4.912294  4.840199  4.984389  4.741203  5.083385     4.905286  4.710265   \n",
       "1     4.991214  4.925322  5.057107  4.822643  5.159786     4.982366  4.793664   \n",
       "2     5.042285  4.980237  5.104334  4.875179  5.209392     5.034723  4.860616   \n",
       "3     5.125603  5.069459  5.181746  4.960598  5.290607     5.127978  4.984527   \n",
       "4     5.222832  5.172818  5.272845  5.059810  5.385853     5.231132  5.079595   \n",
       "5     5.336509  5.292188  5.380831  5.175143  5.497875     5.336169  5.224480   \n",
       "6     5.415842  5.374218  5.457466  5.255196  5.576488     5.409237  5.284803   \n",
       "7     5.494152  5.453917  5.534387  5.333860  5.654444     5.500637  5.379804   \n",
       "8     5.599155  5.558582  5.639727  5.438778  5.759531     5.614255  5.430070   \n",
       "9     5.711118  5.667508  5.754729  5.549946  5.872290     5.730446  5.505653   \n",
       "10    5.833432  5.783948  5.882916  5.670573  5.996292     5.844034  5.679385   \n",
       "11    5.946073  5.889512  6.002635  5.780926  6.111221     5.942254  5.794610   \n",
       "12    6.032681  5.969933  6.095429  5.865313  6.200048     6.022201  5.831703   \n",
       "13    6.143819  6.072478  6.215160  5.973044  6.314594     6.126502  5.875172   \n",
       "14    6.184400  6.109783  6.259018  6.012231  6.356570     6.184191  5.996234   \n",
       "\n",
       "     supCI3D   infPI3D   supPI3D  \n",
       "0   5.100306  4.468516  5.342055  \n",
       "1   5.171067  4.548381  5.416350  \n",
       "2   5.208831  4.606883  5.462564  \n",
       "3   5.271428  4.711670  5.544286  \n",
       "4   5.382668  4.811969  5.650294  \n",
       "5   5.447859  4.929711  5.742628  \n",
       "6   5.533671  4.999093  5.819381  \n",
       "7   5.621470  5.091571  5.909702  \n",
       "8   5.798440  5.182216  6.046295  \n",
       "9   5.955238  5.279595  6.181296  \n",
       "10  6.008683  5.419955  6.268114  \n",
       "11  6.089898  5.524482  6.360025  \n",
       "12  6.212698  5.587433  6.456969  \n",
       "13  6.377833  5.661851  6.591154  \n",
       "14  6.372147  5.750530  6.617851  "
      ]
     },
     "execution_count": 52,
     "metadata": {},
     "output_type": "execute_result"
    }
   ],
   "source": [
    "# Calcul des intervalles de confiance et intervalles de prédiction\n",
    "# pour chaque ligne de la matrice matX, via une fonction spécifique\n",
    "BornesCI3D = [calculate_bornes_CI3D(Z) for Z in np.array(matX)]\n",
    "BornesPI3D = [calculate_bornes_PI3D(Z) for Z in np.array(matX)]\n",
    "\n",
    "# Extraction des tableaux de bornes inférieures et supérieures pour CI\n",
    "# et reshaping pour préparer le tracer des surfaces \n",
    "infCI3D, supCI3D = zip(*BornesCI3D)\n",
    "infCI3D = np.array(infCI3D)\n",
    "df['infCI3D'] = infCI3D\n",
    "infCI3D = infCI3D.reshape(1,15)\n",
    "infCI3D = infCI3D.repeat(15,axis=0)\n",
    "\n",
    "supCI3D = np.array(supCI3D)\n",
    "df['supCI3D'] = supCI3D\n",
    "supCI3D = supCI3D.reshape(1,15)\n",
    "supCI3D = supCI3D.repeat(15,axis=0)\n",
    "\n",
    "# Extraction des tableaux de bornes inférieures et supérieures pour PI\n",
    "# et reshaping pour préparer le tracer des surfaces \n",
    "infPI3D, supPI3D = zip(*BornesPI3D)\n",
    "infPI3D = np.array(infPI3D)\n",
    "df['infPI3D'] = infPI3D\n",
    "infPI3D = infPI3D.reshape(1,15)\n",
    "infPI3D = infPI3D.repeat(15,axis=0)\n",
    "\n",
    "supPI3D = np.array(supPI3D)\n",
    "df['supPI3D'] = supPI3D\n",
    "supPI3D = supPI3D.reshape(1,15)\n",
    "supPI3D = supPI3D.repeat(15,axis=0)\n",
    "\n",
    "# On affiche le dataframe global avec toutes les valeurs\n",
    "df"
   ]
  },
  {
   "cell_type": "code",
   "execution_count": 54,
   "metadata": {},
   "outputs": [
    {
     "data": {
      "text/plain": [
       "<matplotlib.legend.Legend at 0x10f5db358>"
      ]
     },
     "execution_count": 54,
     "metadata": {},
     "output_type": "execute_result"
    },
    {
     "data": {
      "image/png": "[encoded data removed]",
      "text/plain": [
       "<Figure size 720x720 with 1 Axes>"
      ]
     },
     "metadata": {
      "needs_background": "light"
     },
     "output_type": "display_data"
    }
   ],
   "source": [
    "fig2 = plt.figure(figsize=(10,10))\n",
    "ax = fig2.add_subplot(111, projection='3d')\n",
    "ax.scatter(X_log,df['interest'], Y_log, label=\"Invest data\", color='black', s=50 )\n",
    "\n",
    "# Plan de prédiction : on détermine d'abord le maillage de la surface, ici 100 points\n",
    "# entre le min et le max de chacun des axes\n",
    "x_surf, y_surf = np.meshgrid(np.linspace(X_log.min(), X_log.max(), 100),\\\n",
    "                             np.linspace(df['interest'].min(), df['interest'].max(),100))\n",
    "\n",
    "planPrédiction = ax.plot_surface(x_surf, y_surf, Beta[0] + Beta[1] * x_surf + Beta[2] * y_surf, \\\n",
    "                                 color=\"#000099\", alpha=0.5, label='Invest fit',\\\n",
    "                                 linewidth=0, antialiased=True)\n",
    "\n",
    "# hack pour éviter un bug lié à l'affichage de la légende\n",
    "planPrédiction._facecolors2d=planPrédiction._facecolors3d\n",
    "planPrédiction._edgecolors2d=planPrédiction._edgecolors3d\n",
    "\n",
    "# Surfaces des bornes inf et sup de l'intervalle de confiance\n",
    "xx, yy = np.meshgrid(X_log,df['interest'])\n",
    "surfCIinf = ax.plot_surface(xx, yy, infCI3D, label='CI inf', alpha=0.3, color='orange')\n",
    "surfCIinf._facecolors2d=surfCIinf._facecolors3d\n",
    "surfCIinf._edgecolors2d=surfCIinf._edgecolors3d\n",
    "\n",
    "surfCIsup = ax.plot_surface(xx, yy, supCI3D, label='CI sup', alpha=0.3, color='orange')\n",
    "surfCIsup._facecolors2d=surfCIsup._facecolors3d\n",
    "surfCIsup._edgecolors2d=surfCIsup._edgecolors3d\n",
    "\n",
    "# Surfaces des bornes inf et sup de l'intervalle de confiance\n",
    "surfPIinf = ax.plot_surface(xx, yy, infPI3D, label='PI inf', alpha=0.3, color='green')\n",
    "surfPIinf._facecolors2d=surfPIinf._facecolors3d\n",
    "surfPIinf._edgecolors2d=surfPIinf._edgecolors3d\n",
    "\n",
    "surfPIsup = ax.plot_surface(xx, yy, supPI3D, label='PI sup', alpha=0.3, color='green')\n",
    "surfPIsup._facecolors2d=surfPIsup._facecolors3d\n",
    "surfPIsup._edgecolors2d=surfPIsup._edgecolors3d\n",
    "\n",
    "ax.set_xlabel('log(GNP)')\n",
    "ax.set_ylabel('Interest')\n",
    "ax.set_zlabel('log(investment)')\n",
    "ax.set_title('log(Investment) / log(GNP) et Interest')\n",
    "ax.legend()\n",
    "#ax.view_init(0, 60)"
   ]
  },
  {
   "cell_type": "markdown",
   "metadata": {},
   "source": [
    "13) En utilisant des classes/librairies existantes, donner les coefficients de régression, le coefficient de détermination ainsi que l’investissement prédit par le modèle quand GNP vaut 1000 et interest 10. La classe LinearRegression() de sklearn.linear_model est suggérée mais pas obligatoire. Vérifier que les valeurs calculées ici coïncident avec celles des questions précédentes."
   ]
  },
  {
   "cell_type": "code",
   "execution_count": 55,
   "metadata": {},
   "outputs": [
    {
     "name": "stdout",
     "output_type": "stream",
     "text": [
      "Coefficients Beta avec SKleanr : \n",
      "Beta0 = -2.180455 Beta1 = 1.051243 Beta2 = -0.006529\n",
      "Coefficient R2 SKlearn = 0.963311\n",
      "Prédiction GNP1000, interest 10 avec SKlearn = 5.015984\n"
     ]
    }
   ],
   "source": [
    "regr.fit(matX,Y_log)\n",
    "print(\"Coefficients Beta avec SKleanr : \\nBeta0 = {:f} Beta1 = {:f} Beta2 = {:f}\".format(regr.intercept_, *regr.coef_[1:]))\n",
    "\n",
    "R2_SKlearn = r2_score(y_pred=matX.dot(Beta), y_true=Y_log)\n",
    "print(\"Coefficient R2 SKlearn = {:f}\".format(R2_SKlearn))\n",
    "\n",
    "InvestPredSKlearn = regr.predict([X1_1000_10])\n",
    "print(\"Prédiction GNP1000, interest 10 avec SKlearn = {:f}\".format(InvestPredSKlearn[0]))"
   ]
  },
  {
   "cell_type": "markdown",
   "metadata": {},
   "source": [
    "Les résultats obtenus avec la library Scikit-Learn sont **identiques** aux résultats obtenus par le calcul manuel... Ouf !"
   ]
  },
  {
   "cell_type": "code",
   "execution_count": null,
   "metadata": {},
   "outputs": [],
   "source": []
  }
 ],
 "metadata": {
  "kernelspec": {
   "display_name": "Python 3",
   "language": "python",
   "name": "python3"
  },
  "language_info": {
   "codemirror_mode": {
    "name": "ipython",
    "version": 3
   },
   "file_extension": ".py",
   "mimetype": "text/x-python",
   "name": "python",
   "nbconvert_exporter": "python",
   "pygments_lexer": "ipython3",
   "version": "3.6.6"
  }
 },
 "nbformat": 4,
 "nbformat_minor": 2
}
